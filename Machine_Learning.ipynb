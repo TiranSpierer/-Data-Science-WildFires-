{
 "cells": [
  {
   "cell_type": "code",
   "execution_count": 1,
   "id": "1d974f99",
   "metadata": {},
   "outputs": [],
   "source": [
    "import json\n",
    "import sklearn\n",
    "import requests\n",
    "import numpy as np\n",
    "import pandas as pd\n",
    "from sklearn.metrics import r2_score, f1_score\n",
    "from sklearn.linear_model import LinearRegression\n",
    "from sklearn.model_selection import train_test_split\n",
    "from sklearn.preprocessing import MinMaxScaler, StandardScaler, normalize"
   ]
  },
  {
   "cell_type": "markdown",
   "id": "f65f1303",
   "metadata": {},
   "source": [
    "## Weather"
   ]
  },
  {
   "cell_type": "code",
   "execution_count": 2,
   "id": "aa68f856",
   "metadata": {},
   "outputs": [],
   "source": [
    "# weatherapi, API for current and forecast weather data\n",
    "def getWeatherInfoAPI(lat, long, days):\n",
    "    key = \"d1213f5d16694c20ac6144749212012\" \n",
    "    url = \"http://api.weatherapi.com/v1/forecast.json?\"\n",
    "    location = str(lat) + ',' + str(long)\n",
    "    \n",
    "    querystring ={\"q\":location,\n",
    "                  \"key\":key,\n",
    "                  \"lang\":\"en\",\n",
    "                  \"days\":days}\n",
    "\n",
    "    response = requests.request(\"GET\", url, params=querystring)\n",
    "    return response.json()"
   ]
  },
  {
   "cell_type": "code",
   "execution_count": 3,
   "id": "e9d767a3",
   "metadata": {},
   "outputs": [],
   "source": [
    "def getWeatherInfo(lat, long, days):\n",
    "    response = getWeatherInfoAPI(lat, long, days)\n",
    "    weather = {}\n",
    "    fields_current = [\"temp_c\", \"wind_kph\", \"precip_mm\", \"humidity\"]\n",
    "    fields_forecast = [\"maxtemp_c\", \"maxwind_kph\", \"totalprecip_mm\", 'avghumidity']\n",
    "    \n",
    "    # Current\n",
    "    for field in fields_current:\n",
    "        weather[field] = response[\"current\"][field]\n",
    "\n",
    "    # Change name from current fields to forecast fields\n",
    "    for a, b in zip(fields_current, fields_forecast):\n",
    "        weather[b] = weather[a]\n",
    "        del weather[a]\n",
    "\n",
    "    # Forecast - take the mean of the temp this week\n",
    "    for data in response[\"forecast\"][\"forecastday\"]:\n",
    "        for field in fields_forecast:\n",
    "            weather[field] = (weather[field] + data['day'][field])/2\n",
    "    \n",
    "    # Change name to be the same as in the DataFrame\n",
    "    for a, b in zip(fields_forecast, [\"MaxTemp\", \"WindSpeed\", \"Precipitation\", \"Humidity\"]):\n",
    "        weather[b] = weather[a]\n",
    "        del weather[a]\n",
    "    \n",
    "    return weather"
   ]
  },
  {
   "cell_type": "markdown",
   "id": "e00e3ff1",
   "metadata": {},
   "source": [
    "## Machine Learning"
   ]
  },
  {
   "cell_type": "code",
   "execution_count": 4,
   "id": "e977e21c",
   "metadata": {},
   "outputs": [],
   "source": [
    "def LinearRegLatLong(df, lat, long):\n",
    "    weather = getWeatherInfo(lat, long, \"7\")\n",
    "    X = df[[\"Lat\", \"Long\", \"MaxTemp\", \"Humidity\", \"WindSpeed\", \"Precipitation\"]]\n",
    "    y = df[\"Acres\"]\n",
    "    X_train, X_test, y_train, y_test = train_test_split(X, y, test_size=0.3, random_state=42)\n",
    "    model = sklearn.linear_model.LinearRegression().fit(X_train.values, y_train.values)\n",
    "    return model.predict([[lat, long, weather['MaxTemp'], weather['Humidity'], weather['WindSpeed'], weather['Precipitation']]])[0]"
   ]
  },
  {
   "cell_type": "code",
   "execution_count": 5,
   "id": "26e548d8",
   "metadata": {},
   "outputs": [],
   "source": [
    "def LogisticRegLatLong(df, lat, long, duration):\n",
    "    weather = getWeatherInfo(lat, long, \"0\")\n",
    "    df.FireCause = df.FireCause.replace({\"Human\":0, \"Natural\":1, \"Unknown\":2})\n",
    "    X = df[[\"Lat\", \"Long\", \"Duration\", \"MaxTemp\", \"Humidity\", \"WindSpeed\", \"Precipitation\"]]\n",
    "    y = df[\"FireCause\"]\n",
    "    X_train, X_test, y_train, y_test = train_test_split(X, y, test_size=0.3, random_state=42)\n",
    "    model = sklearn.linear_model.LogisticRegression(max_iter=5000).fit(X_train.values, y_train.values)\n",
    "    return model.predict_proba([[lat, long, duration, weather['MaxTemp'], weather['Humidity'], weather['WindSpeed'], weather['Precipitation']]])"
   ]
  },
  {
   "cell_type": "markdown",
   "id": "812db903",
   "metadata": {},
   "source": [
    "Evaluation of models"
   ]
  },
  {
   "cell_type": "code",
   "execution_count": 53,
   "id": "8b0bc02e",
   "metadata": {},
   "outputs": [],
   "source": [
    "def evaluateLinear(df):\n",
    "    X = df[[\"Lat\", \"Long\", \"MaxTemp\", \"Humidity\", \"WindSpeed\", \"Precipitation\"]]\n",
    "    y = df[\"Acres\"]\n",
    "    X_train, X_test, y_train, y_test = train_test_split(X, y, test_size=0.11, random_state=50)\n",
    "    model = sklearn.linear_model.LinearRegression().fit(X_train.values, y_train.values)\n",
    "    y_pred = model.predict(X_test.values)\n",
    "\n",
    "    return r2_score(y_test, y_pred)"
   ]
  },
  {
   "cell_type": "code",
   "execution_count": 52,
   "id": "4bdfafaf",
   "metadata": {},
   "outputs": [],
   "source": [
    "def evaluateLogistic(df):\n",
    "    df.FireCause = df.FireCause.replace({\"Human\":0, \"Natural\":1, \"Unknown\":2})\n",
    "    X = df[[\"Lat\", \"Long\", \"Duration\", \"MaxTemp\", \"Humidity\", \"WindSpeed\", \"Precipitation\"]]\n",
    "    y = df[\"FireCause\"]\n",
    "    X_train, X_test, y_train, y_test = train_test_split(X, y, test_size=0.28, random_state=69)\n",
    "    model = sklearn.linear_model.LogisticRegression(max_iter=5000).fit(X_train.values, y_train.values)\n",
    "    y_pred = model.predict(X_test.values)\n",
    "\n",
    "    return f1_score(y_test, y_pred, average='micro')"
   ]
  },
  {
   "cell_type": "markdown",
   "id": "81c0f09e",
   "metadata": {},
   "source": [
    "## Program"
   ]
  },
  {
   "cell_type": "code",
   "execution_count": 6,
   "id": "7f83cf96",
   "metadata": {},
   "outputs": [],
   "source": [
    "def runProgram():\n",
    "    df = pd.read_csv(\"Cleaned_Wildland_Fires.csv\")\n",
    "    \n",
    "    # Input\n",
    "    print(\"[1] Linear Regression: Predict size of possible fire this week with coordinates\")\n",
    "    print(\"[2] Logistic Regression: Predict cause of past fire with coordinates and its duration\")\n",
    "    modelChoice = input(\"Choice: \")\n",
    "    \n",
    "    if modelChoice != \"1\" and modelChoice != \"2\":\n",
    "        raise ValueError('Model Choice should be [1] or [2]')\n",
    "    \n",
    "    lat = float(input(\"Lat: \"))\n",
    "    long = float(input(\"Long: \"))\n",
    "    \n",
    "    if not -90 <= lat <= 90 or not -180 <= long <= 180:\n",
    "        raise ValueError('Wrong coordinates')\n",
    "    \n",
    "    # Run Program\n",
    "    if modelChoice == \"1\":\n",
    "        print(\"Acres:\", round(LinearRegLatLong(df, lat, long)))\n",
    "        \n",
    "    elif modelChoice == \"2\":\n",
    "        duration = float(input(\"Duration of the fire in days: \"))\n",
    "        if duration < 0:\n",
    "            raise ValueError('invalid days')\n",
    "        pred = LogisticRegLatLong(df, lat, long, duration)[0]\n",
    "        print(\"Cause Probability:\")\n",
    "        for i, cause in enumerate([\"Human\", \"Natural\", \"Unknown\"]):\n",
    "            print(\"\\t{0}: {1:.0%}\".format(cause, pred[i]))"
   ]
  },
  {
   "cell_type": "code",
   "execution_count": 48,
   "id": "67be46f6",
   "metadata": {},
   "outputs": [],
   "source": [
    "runProgram()"
   ]
  }
 ],
 "metadata": {
  "kernelspec": {
   "display_name": "Python 3",
   "language": "python",
   "name": "python3"
  },
  "language_info": {
   "codemirror_mode": {
    "name": "ipython",
    "version": 3
   },
   "file_extension": ".py",
   "mimetype": "text/x-python",
   "name": "python",
   "nbconvert_exporter": "python",
   "pygments_lexer": "ipython3",
   "version": "3.8.8"
  }
 },
 "nbformat": 4,
 "nbformat_minor": 5
}
