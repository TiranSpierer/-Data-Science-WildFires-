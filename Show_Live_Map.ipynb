{
 "cells": [
  {
   "cell_type": "code",
   "execution_count": null,
   "id": "0135c7bf",
   "metadata": {},
   "outputs": [],
   "source": [
    "import plotly.express as px\n",
    "import pandas as pd\n",
    "import numpy as np\n",
    "import import_ipynb\n",
    "import os\n",
    "import sys\n",
    "sys.path.append(os.getcwd)\n",
    "import Data_Acquisition\n",
    "\n",
    "URL_live = \"https://data-nifc.opendata.arcgis.com/datasets/wfigs-current-wildland-fire-locations/explore?showTable=true\"\n",
    "path_csv = \"Live_Wildland_Fires.csv\"\n",
    "Data_Acquisition.runProgram(URL_live, path_csv)\n",
    "\n",
    "df_org = pd.read_csv(path_csv)\n",
    "df = df_org[['InitialLatitude', 'InitialLongitude', 'FireCause', 'FireCauseGeneral', 'FireCauseSpecific']].copy()\n",
    "\n",
    "df.loc[df.FireCause == \"Undetermined\", \"FireCause\"] = \"Unknown\"\n",
    "df.update(df[['FireCause', 'FireCauseGeneral', 'FireCauseSpecific']].fillna(value=\"Unknown\"))\n",
    "\n",
    "fig = px.scatter_geo(df,\n",
    "                     lat='InitialLatitude',lon='InitialLongitude', \n",
    "                     hover_data=['FireCauseGeneral', 'FireCauseSpecific'], \n",
    "                     color=df['FireCause'])\n",
    "fig.update_layout(title = 'World map', title_x=0.5)\n",
    "fig.show()"
   ]
  }
 ],
 "metadata": {
  "kernelspec": {
   "display_name": "Python 3",
   "language": "python",
   "name": "python3"
  },
  "language_info": {
   "codemirror_mode": {
    "name": "ipython",
    "version": 3
   },
   "file_extension": ".py",
   "mimetype": "text/x-python",
   "name": "python",
   "nbconvert_exporter": "python",
   "pygments_lexer": "ipython3",
   "version": "3.8.8"
  }
 },
 "nbformat": 4,
 "nbformat_minor": 5
}
