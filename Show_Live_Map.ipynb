{
 "cells": [
  {
   "cell_type": "code",
   "execution_count": 4,
   "id": "0135c7bf",
   "metadata": {},
   "outputs": [
    {
     "data": {
      "application/vnd.plotly.v1+json": {
       "config": {
        "plotlyServerURL": "https://plot.ly"
       },
       "data": [
        {
         "customdata": [
          [
           "Unknown",
           "Unknown"
          ],
          [
           "Debris/Open Burning",
           "Broadcast/Prescribed Burn"
          ],
          [
           "Unknown",
           "Unknown"
          ],
          [
           "Unknown",
           "Unknown"
          ],
          [
           "Undetermined",
           "Unknown"
          ],
          [
           "Unknown",
           "Unknown"
          ],
          [
           "Unknown",
           "Unknown"
          ],
          [
           "Unknown",
           "Unknown"
          ],
          [
           "Unknown",
           "Unknown"
          ],
          [
           "Unknown",
           "Unknown"
          ],
          [
           "Undetermined",
           "Unknown"
          ],
          [
           "Unknown",
           "Unknown"
          ],
          [
           "Other Human Cause",
           "Other, Unknown"
          ],
          [
           "Camping",
           "Unknown"
          ],
          [
           "Unknown",
           "Unknown"
          ],
          [
           "Unknown",
           "Unknown"
          ],
          [
           "Unknown",
           "Unknown"
          ],
          [
           "Unknown",
           "Unknown"
          ],
          [
           "Unknown",
           "Unknown"
          ],
          [
           "Unknown",
           "Unknown"
          ],
          [
           "Unknown",
           "Unknown"
          ],
          [
           "Unknown",
           "Unknown"
          ],
          [
           "Unknown",
           "Unknown"
          ],
          [
           "Unknown",
           "Unknown"
          ],
          [
           "Unknown",
           "Unknown"
          ],
          [
           "Unknown",
           "Unknown"
          ],
          [
           "Unknown",
           "Unknown"
          ],
          [
           "Unknown",
           "Unknown"
          ],
          [
           "Unknown",
           "Unknown"
          ],
          [
           "Unknown",
           "Unknown"
          ],
          [
           "Unknown",
           "Unknown"
          ],
          [
           "Unknown",
           "Unknown"
          ],
          [
           "Unknown",
           "Unknown"
          ],
          [
           "Utilities",
           "Power Generation/Transmission"
          ],
          [
           "Unknown",
           "Unknown"
          ],
          [
           "Unknown",
           "Unknown"
          ],
          [
           "Unknown",
           "Unknown"
          ],
          [
           "Unknown",
           "Unknown"
          ],
          [
           "Unknown",
           "Unknown"
          ],
          [
           "Unknown",
           "Unknown"
          ],
          [
           "Unknown",
           "Unknown"
          ],
          [
           "Unknown",
           "Unknown"
          ],
          [
           "Unknown",
           "Unknown"
          ],
          [
           "Unknown",
           "Unknown"
          ],
          [
           "Unknown",
           "Unknown"
          ],
          [
           "Unknown",
           "Unknown"
          ],
          [
           "Unknown",
           "Unknown"
          ],
          [
           "Unknown",
           "Unknown"
          ],
          [
           "Unknown",
           "Unknown"
          ],
          [
           "Unknown",
           "Unknown"
          ],
          [
           "Unknown",
           "Unknown"
          ],
          [
           "Unknown",
           "Unknown"
          ],
          [
           "Unknown",
           "Unknown"
          ],
          [
           "Unknown",
           "Unknown"
          ],
          [
           "Unknown",
           "Unknown"
          ],
          [
           "Unknown",
           "Unknown"
          ],
          [
           "Unknown",
           "Unknown"
          ],
          [
           "Unknown",
           "Unknown"
          ],
          [
           "Unknown",
           "Unknown"
          ],
          [
           "Unknown",
           "Unknown"
          ],
          [
           "Unknown",
           "Unknown"
          ],
          [
           "Unknown",
           "Unknown"
          ],
          [
           "Unknown",
           "Unknown"
          ],
          [
           "Unknown",
           "Unknown"
          ],
          [
           "Unknown",
           "Unknown"
          ],
          [
           "Unknown",
           "Unknown"
          ],
          [
           "Unknown",
           "Unknown"
          ],
          [
           "Unknown",
           "Unknown"
          ],
          [
           "Undetermined",
           "Unknown"
          ],
          [
           "Undetermined",
           "Unknown"
          ],
          [
           "Unknown",
           "Unknown"
          ],
          [
           "Unknown",
           "Unknown"
          ],
          [
           "Unknown",
           "Unknown"
          ],
          [
           "Unknown",
           "Unknown"
          ],
          [
           "Unknown",
           "Unknown"
          ],
          [
           "Unknown",
           "Unknown"
          ],
          [
           "Unknown",
           "Unknown"
          ],
          [
           "Unknown",
           "Unknown"
          ],
          [
           "Unknown",
           "Unknown"
          ],
          [
           "Unknown",
           "Unknown"
          ],
          [
           "Unknown",
           "Unknown"
          ],
          [
           "Unknown",
           "Unknown"
          ],
          [
           "Unknown",
           "Unknown"
          ],
          [
           "Unknown",
           "Unknown"
          ],
          [
           "Unknown",
           "Unknown"
          ],
          [
           "Unknown",
           "Unknown"
          ],
          [
           "Unknown",
           "Unknown"
          ],
          [
           "Unknown",
           "Unknown"
          ],
          [
           "Unknown",
           "Unknown"
          ],
          [
           "Unknown",
           "Unknown"
          ],
          [
           "Unknown",
           "Unknown"
          ],
          [
           "Unknown",
           "Unknown"
          ],
          [
           "Unknown",
           "Unknown"
          ],
          [
           "Unknown",
           "Unknown"
          ],
          [
           "Unknown",
           "Unknown"
          ],
          [
           "Unknown",
           "Unknown"
          ],
          [
           "Unknown",
           "Unknown"
          ],
          [
           "Unknown",
           "Unknown"
          ],
          [
           "Unknown",
           "Unknown"
          ],
          [
           "Unknown",
           "Unknown"
          ],
          [
           "Unknown",
           "Unknown"
          ],
          [
           "Unknown",
           "Unknown"
          ],
          [
           "Unknown",
           "Unknown"
          ],
          [
           "Unknown",
           "Unknown"
          ],
          [
           "Unknown",
           "Unknown"
          ],
          [
           "Unknown",
           "Unknown"
          ],
          [
           "Unknown",
           "Unknown"
          ],
          [
           "Unknown",
           "Unknown"
          ],
          [
           "Unknown",
           "Unknown"
          ],
          [
           "Unknown",
           "Unknown"
          ],
          [
           "Unknown",
           "Unknown"
          ],
          [
           "Undetermined",
           "Unknown"
          ],
          [
           "Undetermined",
           "Unknown"
          ],
          [
           "Undetermined",
           "Unknown"
          ],
          [
           "Undetermined",
           "Unknown"
          ],
          [
           "Unknown",
           "Unknown"
          ],
          [
           "Unknown",
           "Unknown"
          ],
          [
           "Unknown",
           "Unknown"
          ],
          [
           "Unknown",
           "Unknown"
          ],
          [
           "Unknown",
           "Unknown"
          ],
          [
           "Unknown",
           "Unknown"
          ],
          [
           "Unknown",
           "Unknown"
          ],
          [
           "Unknown",
           "Unknown"
          ],
          [
           "Unknown",
           "Unknown"
          ],
          [
           "Unknown",
           "Unknown"
          ],
          [
           "Unknown",
           "Unknown"
          ],
          [
           "Unknown",
           "Unknown"
          ],
          [
           "Unknown",
           "Unknown"
          ],
          [
           "Unknown",
           "Unknown"
          ],
          [
           "Unknown",
           "Unknown"
          ],
          [
           "Unknown",
           "Unknown"
          ],
          [
           "Unknown",
           "Unknown"
          ],
          [
           "Unknown",
           "Unknown"
          ],
          [
           "Unknown",
           "Unknown"
          ],
          [
           "Unknown",
           "Unknown"
          ],
          [
           "Unknown",
           "Unknown"
          ],
          [
           "Unknown",
           "Unknown"
          ],
          [
           "Unknown",
           "Unknown"
          ],
          [
           "Unknown",
           "Unknown"
          ],
          [
           "Unknown",
           "Unknown"
          ]
         ],
         "geo": "geo",
         "hovertemplate": "FireCause=Unknown<br>InitialLatitude=%{lat}<br>InitialLongitude=%{lon}<br>FireCauseGeneral=%{customdata[0]}<br>FireCauseSpecific=%{customdata[1]}<extra></extra>",
         "lat": [
          36.946,
          38.21304,
          37.96474,
          36.35195,
          37.27913,
          null,
          37.18592,
          35.91182,
          37.72044,
          37.68223,
          42.51338,
          46.01192,
          45.62949,
          45.62123,
          46.555515,
          43.99332,
          43.869292,
          43.510483,
          43.10283,
          36.581677,
          39.71218,
          35.42961,
          47.37994,
          39.61339,
          35.11411,
          31.02323,
          48.26895,
          30,
          30.40677,
          40.47693,
          37.8141,
          38.61678,
          47.35012,
          44.96374,
          30.21593,
          31.5336,
          30.19266,
          33.726328,
          null,
          32.48318,
          32.93291,
          null,
          36.80378,
          32.49542,
          30.97484,
          33.26722,
          37.726667,
          35.11592,
          36.8049,
          35.55433,
          31.16089,
          27.10666,
          32.81838,
          46.37329,
          35.3294,
          48.084074,
          null,
          47.267667,
          35.2375,
          37.371389,
          33.30736,
          33.47534,
          33.942702,
          33.745806,
          34.70395,
          33.683847,
          25.98514,
          33.928,
          34.0370345,
          32.708713,
          34.75892,
          37.074451,
          33.757839,
          33.816461,
          null,
          33.9945,
          33.941821,
          36.850879,
          33.768969,
          34.6161,
          33.967161,
          34.5579,
          33.851461,
          33.288932,
          30.33386,
          34.74792,
          33.935434,
          34.58351,
          33.919765,
          41.909967,
          null,
          34.63119,
          33.68657,
          33.75331,
          33.924574,
          null,
          33.28604,
          33.773894,
          33.93032,
          34.010591,
          33.92625,
          33.9281,
          36.561046,
          33.675674,
          33.92976,
          33.92511,
          33.794401,
          33.698022,
          33.741638,
          33.569691,
          33.27413,
          null,
          null,
          null,
          null,
          34.36506,
          33.767017,
          33.925439,
          34.66026,
          33.491638,
          34.84431,
          40.948195,
          33.831104,
          36.68253,
          33.840121,
          34.136074,
          33.716493,
          33.8758,
          34.010591,
          34.66026,
          33.683371,
          36.73976,
          38.22912,
          33.810763,
          33.98909,
          36.80447,
          35.1319,
          33.6407,
          36.959787,
          null
         ],
         "legendgroup": "Unknown",
         "lon": [
          -84.257,
          -111.4088,
          -106.6391,
          -106.9621,
          -83.656635,
          null,
          -120.6443,
          -119.4151,
          -121.1491,
          -121.2064,
          -118.5952,
          -116.9107,
          -121.2319,
          -121.1105,
          -115.096913,
          -122.6131,
          -122.408533,
          -122.675989,
          -122.875,
          -118.794833,
          -110.1596,
          -84.06229,
          -112.7664,
          -111.1866,
          -84.6155,
          -88.88161,
          -104.38963,
          -84.99987,
          -85.25896,
          -111.1568,
          -109.4193,
          -111.9581,
          -115.2611,
          -109.2161,
          -84.92751,
          -88.88557,
          -82.43383,
          -117.267907,
          null,
          -89.59841,
          -108.0127,
          null,
          -91.11462,
          -89.59442,
          -88.85441,
          -89.10298,
          -90.901667,
          -84.5742,
          -91.1408,
          -106.3519,
          -92.60435,
          -81.08321,
          -108.1474,
          -84.73794,
          -96.633,
          -105.065979,
          null,
          -110.500667,
          -96.279722,
          -83.749444,
          -108.8875,
          -107.797,
          -117.22644,
          -116.892386,
          -118.16587,
          -117.3946,
          -80.90269,
          -116.845189,
          -98.92943152,
          -99.76203,
          -117.0098,
          -121.604143,
          -117.112942,
          -116.392852,
          null,
          -117.402168,
          -117.273734,
          -120.563198,
          -116.446013,
          -118.12344,
          -117.466631,
          -118.1323,
          -117.470461,
          -116.810503,
          -82.59996,
          -118.14452,
          -117.233319,
          -118.2022,
          -116.423148,
          -122.269117,
          null,
          -117.84941,
          -117.395805,
          -117.032888,
          -116.881112,
          null,
          -116.8088,
          -117.252368,
          -118.3684,
          -117.430135,
          -118.2134,
          -118.05203,
          -120.388898,
          -116.181594,
          -118.369,
          -118.21,
          -116.97157,
          -117.187805,
          -116.21665,
          -116.078401,
          -115.4795,
          null,
          null,
          null,
          null,
          -118.50341,
          -116.927537,
          -116.897798,
          -118.1531,
          -116.117923,
          -94.40856,
          -120.770207,
          -116.226866,
          -119.207236,
          -116.244267,
          -116.30969,
          -116.17103,
          -118.08222,
          -117.430135,
          -118.13053,
          -117.37205,
          -100.7831,
          -94.64069,
          -117.22607,
          -118.20527,
          -92.00818,
          -96.62301,
          -117.4338,
          -120.062887,
          null
         ],
         "marker": {
          "color": "#636efa",
          "symbol": "circle"
         },
         "mode": "markers",
         "name": "Unknown",
         "showlegend": true,
         "type": "scattergeo"
        },
        {
         "customdata": [
          [
           "Unknown",
           "Unknown"
          ],
          [
           "Unknown",
           "Unknown"
          ],
          [
           "Unknown",
           "Unknown"
          ],
          [
           "Other Human Cause",
           "Fireworks (Consumer or Personal Use)"
          ],
          [
           "Utilities",
           "Unknown"
          ],
          [
           "Unknown",
           "Unknown"
          ],
          [
           "Unknown",
           "Unknown"
          ],
          [
           "Unknown",
           "Unknown"
          ],
          [
           "Unknown",
           "Unknown"
          ],
          [
           "Unknown",
           "Unknown"
          ],
          [
           "Unknown",
           "Unknown"
          ],
          [
           "Unknown",
           "Unknown"
          ],
          [
           "Unknown",
           "Unknown"
          ],
          [
           "Unknown",
           "Unknown"
          ],
          [
           "Unknown",
           "Unknown"
          ],
          [
           "Unknown",
           "Unknown"
          ],
          [
           "Unknown",
           "Unknown"
          ],
          [
           "Unknown",
           "Unknown"
          ],
          [
           "Unknown",
           "Unknown"
          ],
          [
           "Unknown",
           "Unknown"
          ],
          [
           "Unknown",
           "Unknown"
          ],
          [
           "Unknown",
           "Unknown"
          ],
          [
           "Unknown",
           "Unknown"
          ],
          [
           "Unknown",
           "Unknown"
          ],
          [
           "Unknown",
           "Unknown"
          ],
          [
           "Unknown",
           "Unknown"
          ],
          [
           "Unknown",
           "Unknown"
          ],
          [
           "Unknown",
           "Unknown"
          ],
          [
           "Unknown",
           "Unknown"
          ],
          [
           "Utilities",
           "Power Generation/Transmission"
          ],
          [
           "Unknown",
           "Unknown"
          ],
          [
           "Unknown",
           "Unknown"
          ],
          [
           "Unknown",
           "Unknown"
          ],
          [
           "Unknown",
           "Unknown"
          ],
          [
           "Unknown",
           "Unknown"
          ],
          [
           "Other Human Cause",
           "Unknown"
          ],
          [
           "Equipment",
           "Motor Vehicle"
          ],
          [
           "Camping",
           "Unknown"
          ],
          [
           "Unknown",
           "Unknown"
          ],
          [
           "Utilities",
           "Power Generation/Transmission"
          ],
          [
           "Unknown",
           "Unknown"
          ],
          [
           "Unknown",
           "Unknown"
          ]
         ],
         "geo": "geo",
         "hovertemplate": "FireCause=Human<br>InitialLatitude=%{lat}<br>InitialLongitude=%{lon}<br>FireCauseGeneral=%{customdata[0]}<br>FireCauseSpecific=%{customdata[1]}<extra></extra>",
         "lat": [
          43.76278,
          43.7611,
          47.97597,
          46.5758,
          46.56453,
          null,
          null,
          47.28637,
          null,
          null,
          35.23251,
          null,
          null,
          null,
          null,
          null,
          null,
          null,
          null,
          null,
          null,
          null,
          null,
          null,
          null,
          null,
          null,
          40.39803,
          35.66993,
          35.659417,
          null,
          34.94162,
          null,
          null,
          34.84836,
          null,
          null,
          null,
          34.07633,
          null,
          37.30074,
          34.61794
         ],
         "legendgroup": "Human",
         "lon": [
          -103.4538,
          -103.4674,
          -91.53809,
          -111.9849,
          -109.7912,
          null,
          null,
          -110.15795,
          null,
          null,
          -95.79134,
          null,
          null,
          null,
          null,
          null,
          null,
          null,
          null,
          null,
          null,
          null,
          null,
          null,
          null,
          null,
          null,
          -99.14119,
          -100.0255,
          -101.871421,
          null,
          -96.70055,
          null,
          null,
          -98.38602,
          null,
          null,
          null,
          -92.60194,
          null,
          -88.62199,
          -98.68299
         ],
         "marker": {
          "color": "#EF553B",
          "symbol": "circle"
         },
         "mode": "markers",
         "name": "Human",
         "showlegend": true,
         "type": "scattergeo"
        },
        {
         "customdata": [
          [
           "Unknown",
           "Unknown"
          ],
          [
           "Unknown",
           "Unknown"
          ],
          [
           "Unknown",
           "Unknown"
          ],
          [
           "Other Natural Cause",
           "Unknown"
          ]
         ],
         "geo": "geo",
         "hovertemplate": "FireCause=Natural<br>InitialLatitude=%{lat}<br>InitialLongitude=%{lon}<br>FireCauseGeneral=%{customdata[0]}<br>FireCauseSpecific=%{customdata[1]}<extra></extra>",
         "lat": [
          40.75228,
          36.56688,
          36.50725,
          null
         ],
         "legendgroup": "Natural",
         "lon": [
          -123.3367,
          -118.8115,
          -118.7675,
          null
         ],
         "marker": {
          "color": "#00cc96",
          "symbol": "circle"
         },
         "mode": "markers",
         "name": "Natural",
         "showlegend": true,
         "type": "scattergeo"
        }
       ],
       "layout": {
        "geo": {
         "center": {},
         "domain": {
          "x": [
           0,
           1
          ],
          "y": [
           0,
           1
          ]
         }
        },
        "legend": {
         "title": {
          "text": "FireCause"
         },
         "tracegroupgap": 0
        },
        "margin": {
         "t": 60
        },
        "template": {
         "data": {
          "bar": [
           {
            "error_x": {
             "color": "#2a3f5f"
            },
            "error_y": {
             "color": "#2a3f5f"
            },
            "marker": {
             "line": {
              "color": "#E5ECF6",
              "width": 0.5
             },
             "pattern": {
              "fillmode": "overlay",
              "size": 10,
              "solidity": 0.2
             }
            },
            "type": "bar"
           }
          ],
          "barpolar": [
           {
            "marker": {
             "line": {
              "color": "#E5ECF6",
              "width": 0.5
             },
             "pattern": {
              "fillmode": "overlay",
              "size": 10,
              "solidity": 0.2
             }
            },
            "type": "barpolar"
           }
          ],
          "carpet": [
           {
            "aaxis": {
             "endlinecolor": "#2a3f5f",
             "gridcolor": "white",
             "linecolor": "white",
             "minorgridcolor": "white",
             "startlinecolor": "#2a3f5f"
            },
            "baxis": {
             "endlinecolor": "#2a3f5f",
             "gridcolor": "white",
             "linecolor": "white",
             "minorgridcolor": "white",
             "startlinecolor": "#2a3f5f"
            },
            "type": "carpet"
           }
          ],
          "choropleth": [
           {
            "colorbar": {
             "outlinewidth": 0,
             "ticks": ""
            },
            "type": "choropleth"
           }
          ],
          "contour": [
           {
            "colorbar": {
             "outlinewidth": 0,
             "ticks": ""
            },
            "colorscale": [
             [
              0,
              "#0d0887"
             ],
             [
              0.1111111111111111,
              "#46039f"
             ],
             [
              0.2222222222222222,
              "#7201a8"
             ],
             [
              0.3333333333333333,
              "#9c179e"
             ],
             [
              0.4444444444444444,
              "#bd3786"
             ],
             [
              0.5555555555555556,
              "#d8576b"
             ],
             [
              0.6666666666666666,
              "#ed7953"
             ],
             [
              0.7777777777777778,
              "#fb9f3a"
             ],
             [
              0.8888888888888888,
              "#fdca26"
             ],
             [
              1,
              "#f0f921"
             ]
            ],
            "type": "contour"
           }
          ],
          "contourcarpet": [
           {
            "colorbar": {
             "outlinewidth": 0,
             "ticks": ""
            },
            "type": "contourcarpet"
           }
          ],
          "heatmap": [
           {
            "colorbar": {
             "outlinewidth": 0,
             "ticks": ""
            },
            "colorscale": [
             [
              0,
              "#0d0887"
             ],
             [
              0.1111111111111111,
              "#46039f"
             ],
             [
              0.2222222222222222,
              "#7201a8"
             ],
             [
              0.3333333333333333,
              "#9c179e"
             ],
             [
              0.4444444444444444,
              "#bd3786"
             ],
             [
              0.5555555555555556,
              "#d8576b"
             ],
             [
              0.6666666666666666,
              "#ed7953"
             ],
             [
              0.7777777777777778,
              "#fb9f3a"
             ],
             [
              0.8888888888888888,
              "#fdca26"
             ],
             [
              1,
              "#f0f921"
             ]
            ],
            "type": "heatmap"
           }
          ],
          "heatmapgl": [
           {
            "colorbar": {
             "outlinewidth": 0,
             "ticks": ""
            },
            "colorscale": [
             [
              0,
              "#0d0887"
             ],
             [
              0.1111111111111111,
              "#46039f"
             ],
             [
              0.2222222222222222,
              "#7201a8"
             ],
             [
              0.3333333333333333,
              "#9c179e"
             ],
             [
              0.4444444444444444,
              "#bd3786"
             ],
             [
              0.5555555555555556,
              "#d8576b"
             ],
             [
              0.6666666666666666,
              "#ed7953"
             ],
             [
              0.7777777777777778,
              "#fb9f3a"
             ],
             [
              0.8888888888888888,
              "#fdca26"
             ],
             [
              1,
              "#f0f921"
             ]
            ],
            "type": "heatmapgl"
           }
          ],
          "histogram": [
           {
            "marker": {
             "pattern": {
              "fillmode": "overlay",
              "size": 10,
              "solidity": 0.2
             }
            },
            "type": "histogram"
           }
          ],
          "histogram2d": [
           {
            "colorbar": {
             "outlinewidth": 0,
             "ticks": ""
            },
            "colorscale": [
             [
              0,
              "#0d0887"
             ],
             [
              0.1111111111111111,
              "#46039f"
             ],
             [
              0.2222222222222222,
              "#7201a8"
             ],
             [
              0.3333333333333333,
              "#9c179e"
             ],
             [
              0.4444444444444444,
              "#bd3786"
             ],
             [
              0.5555555555555556,
              "#d8576b"
             ],
             [
              0.6666666666666666,
              "#ed7953"
             ],
             [
              0.7777777777777778,
              "#fb9f3a"
             ],
             [
              0.8888888888888888,
              "#fdca26"
             ],
             [
              1,
              "#f0f921"
             ]
            ],
            "type": "histogram2d"
           }
          ],
          "histogram2dcontour": [
           {
            "colorbar": {
             "outlinewidth": 0,
             "ticks": ""
            },
            "colorscale": [
             [
              0,
              "#0d0887"
             ],
             [
              0.1111111111111111,
              "#46039f"
             ],
             [
              0.2222222222222222,
              "#7201a8"
             ],
             [
              0.3333333333333333,
              "#9c179e"
             ],
             [
              0.4444444444444444,
              "#bd3786"
             ],
             [
              0.5555555555555556,
              "#d8576b"
             ],
             [
              0.6666666666666666,
              "#ed7953"
             ],
             [
              0.7777777777777778,
              "#fb9f3a"
             ],
             [
              0.8888888888888888,
              "#fdca26"
             ],
             [
              1,
              "#f0f921"
             ]
            ],
            "type": "histogram2dcontour"
           }
          ],
          "mesh3d": [
           {
            "colorbar": {
             "outlinewidth": 0,
             "ticks": ""
            },
            "type": "mesh3d"
           }
          ],
          "parcoords": [
           {
            "line": {
             "colorbar": {
              "outlinewidth": 0,
              "ticks": ""
             }
            },
            "type": "parcoords"
           }
          ],
          "pie": [
           {
            "automargin": true,
            "type": "pie"
           }
          ],
          "scatter": [
           {
            "marker": {
             "colorbar": {
              "outlinewidth": 0,
              "ticks": ""
             }
            },
            "type": "scatter"
           }
          ],
          "scatter3d": [
           {
            "line": {
             "colorbar": {
              "outlinewidth": 0,
              "ticks": ""
             }
            },
            "marker": {
             "colorbar": {
              "outlinewidth": 0,
              "ticks": ""
             }
            },
            "type": "scatter3d"
           }
          ],
          "scattercarpet": [
           {
            "marker": {
             "colorbar": {
              "outlinewidth": 0,
              "ticks": ""
             }
            },
            "type": "scattercarpet"
           }
          ],
          "scattergeo": [
           {
            "marker": {
             "colorbar": {
              "outlinewidth": 0,
              "ticks": ""
             }
            },
            "type": "scattergeo"
           }
          ],
          "scattergl": [
           {
            "marker": {
             "colorbar": {
              "outlinewidth": 0,
              "ticks": ""
             }
            },
            "type": "scattergl"
           }
          ],
          "scattermapbox": [
           {
            "marker": {
             "colorbar": {
              "outlinewidth": 0,
              "ticks": ""
             }
            },
            "type": "scattermapbox"
           }
          ],
          "scatterpolar": [
           {
            "marker": {
             "colorbar": {
              "outlinewidth": 0,
              "ticks": ""
             }
            },
            "type": "scatterpolar"
           }
          ],
          "scatterpolargl": [
           {
            "marker": {
             "colorbar": {
              "outlinewidth": 0,
              "ticks": ""
             }
            },
            "type": "scatterpolargl"
           }
          ],
          "scatterternary": [
           {
            "marker": {
             "colorbar": {
              "outlinewidth": 0,
              "ticks": ""
             }
            },
            "type": "scatterternary"
           }
          ],
          "surface": [
           {
            "colorbar": {
             "outlinewidth": 0,
             "ticks": ""
            },
            "colorscale": [
             [
              0,
              "#0d0887"
             ],
             [
              0.1111111111111111,
              "#46039f"
             ],
             [
              0.2222222222222222,
              "#7201a8"
             ],
             [
              0.3333333333333333,
              "#9c179e"
             ],
             [
              0.4444444444444444,
              "#bd3786"
             ],
             [
              0.5555555555555556,
              "#d8576b"
             ],
             [
              0.6666666666666666,
              "#ed7953"
             ],
             [
              0.7777777777777778,
              "#fb9f3a"
             ],
             [
              0.8888888888888888,
              "#fdca26"
             ],
             [
              1,
              "#f0f921"
             ]
            ],
            "type": "surface"
           }
          ],
          "table": [
           {
            "cells": {
             "fill": {
              "color": "#EBF0F8"
             },
             "line": {
              "color": "white"
             }
            },
            "header": {
             "fill": {
              "color": "#C8D4E3"
             },
             "line": {
              "color": "white"
             }
            },
            "type": "table"
           }
          ]
         },
         "layout": {
          "annotationdefaults": {
           "arrowcolor": "#2a3f5f",
           "arrowhead": 0,
           "arrowwidth": 1
          },
          "autotypenumbers": "strict",
          "coloraxis": {
           "colorbar": {
            "outlinewidth": 0,
            "ticks": ""
           }
          },
          "colorscale": {
           "diverging": [
            [
             0,
             "#8e0152"
            ],
            [
             0.1,
             "#c51b7d"
            ],
            [
             0.2,
             "#de77ae"
            ],
            [
             0.3,
             "#f1b6da"
            ],
            [
             0.4,
             "#fde0ef"
            ],
            [
             0.5,
             "#f7f7f7"
            ],
            [
             0.6,
             "#e6f5d0"
            ],
            [
             0.7,
             "#b8e186"
            ],
            [
             0.8,
             "#7fbc41"
            ],
            [
             0.9,
             "#4d9221"
            ],
            [
             1,
             "#276419"
            ]
           ],
           "sequential": [
            [
             0,
             "#0d0887"
            ],
            [
             0.1111111111111111,
             "#46039f"
            ],
            [
             0.2222222222222222,
             "#7201a8"
            ],
            [
             0.3333333333333333,
             "#9c179e"
            ],
            [
             0.4444444444444444,
             "#bd3786"
            ],
            [
             0.5555555555555556,
             "#d8576b"
            ],
            [
             0.6666666666666666,
             "#ed7953"
            ],
            [
             0.7777777777777778,
             "#fb9f3a"
            ],
            [
             0.8888888888888888,
             "#fdca26"
            ],
            [
             1,
             "#f0f921"
            ]
           ],
           "sequentialminus": [
            [
             0,
             "#0d0887"
            ],
            [
             0.1111111111111111,
             "#46039f"
            ],
            [
             0.2222222222222222,
             "#7201a8"
            ],
            [
             0.3333333333333333,
             "#9c179e"
            ],
            [
             0.4444444444444444,
             "#bd3786"
            ],
            [
             0.5555555555555556,
             "#d8576b"
            ],
            [
             0.6666666666666666,
             "#ed7953"
            ],
            [
             0.7777777777777778,
             "#fb9f3a"
            ],
            [
             0.8888888888888888,
             "#fdca26"
            ],
            [
             1,
             "#f0f921"
            ]
           ]
          },
          "colorway": [
           "#636efa",
           "#EF553B",
           "#00cc96",
           "#ab63fa",
           "#FFA15A",
           "#19d3f3",
           "#FF6692",
           "#B6E880",
           "#FF97FF",
           "#FECB52"
          ],
          "font": {
           "color": "#2a3f5f"
          },
          "geo": {
           "bgcolor": "white",
           "lakecolor": "white",
           "landcolor": "#E5ECF6",
           "showlakes": true,
           "showland": true,
           "subunitcolor": "white"
          },
          "hoverlabel": {
           "align": "left"
          },
          "hovermode": "closest",
          "mapbox": {
           "style": "light"
          },
          "paper_bgcolor": "white",
          "plot_bgcolor": "#E5ECF6",
          "polar": {
           "angularaxis": {
            "gridcolor": "white",
            "linecolor": "white",
            "ticks": ""
           },
           "bgcolor": "#E5ECF6",
           "radialaxis": {
            "gridcolor": "white",
            "linecolor": "white",
            "ticks": ""
           }
          },
          "scene": {
           "xaxis": {
            "backgroundcolor": "#E5ECF6",
            "gridcolor": "white",
            "gridwidth": 2,
            "linecolor": "white",
            "showbackground": true,
            "ticks": "",
            "zerolinecolor": "white"
           },
           "yaxis": {
            "backgroundcolor": "#E5ECF6",
            "gridcolor": "white",
            "gridwidth": 2,
            "linecolor": "white",
            "showbackground": true,
            "ticks": "",
            "zerolinecolor": "white"
           },
           "zaxis": {
            "backgroundcolor": "#E5ECF6",
            "gridcolor": "white",
            "gridwidth": 2,
            "linecolor": "white",
            "showbackground": true,
            "ticks": "",
            "zerolinecolor": "white"
           }
          },
          "shapedefaults": {
           "line": {
            "color": "#2a3f5f"
           }
          },
          "ternary": {
           "aaxis": {
            "gridcolor": "white",
            "linecolor": "white",
            "ticks": ""
           },
           "baxis": {
            "gridcolor": "white",
            "linecolor": "white",
            "ticks": ""
           },
           "bgcolor": "#E5ECF6",
           "caxis": {
            "gridcolor": "white",
            "linecolor": "white",
            "ticks": ""
           }
          },
          "title": {
           "x": 0.05
          },
          "xaxis": {
           "automargin": true,
           "gridcolor": "white",
           "linecolor": "white",
           "ticks": "",
           "title": {
            "standoff": 15
           },
           "zerolinecolor": "white",
           "zerolinewidth": 2
          },
          "yaxis": {
           "automargin": true,
           "gridcolor": "white",
           "linecolor": "white",
           "ticks": "",
           "title": {
            "standoff": 15
           },
           "zerolinecolor": "white",
           "zerolinewidth": 2
          }
         }
        },
        "title": {
         "text": "World map",
         "x": 0.5
        }
       }
      },
      "text/html": [
       "<div>                            <div id=\"b082ef1a-dca0-4783-933c-d055882eaa7d\" class=\"plotly-graph-div\" style=\"height:525px; width:100%;\"></div>            <script type=\"text/javascript\">                require([\"plotly\"], function(Plotly) {                    window.PLOTLYENV=window.PLOTLYENV || {};                                    if (document.getElementById(\"b082ef1a-dca0-4783-933c-d055882eaa7d\")) {                    Plotly.newPlot(                        \"b082ef1a-dca0-4783-933c-d055882eaa7d\",                        [{\"customdata\":[[\"Unknown\",\"Unknown\"],[\"Debris/Open Burning\",\"Broadcast/Prescribed Burn\"],[\"Unknown\",\"Unknown\"],[\"Unknown\",\"Unknown\"],[\"Undetermined\",\"Unknown\"],[\"Unknown\",\"Unknown\"],[\"Unknown\",\"Unknown\"],[\"Unknown\",\"Unknown\"],[\"Unknown\",\"Unknown\"],[\"Unknown\",\"Unknown\"],[\"Undetermined\",\"Unknown\"],[\"Unknown\",\"Unknown\"],[\"Other Human Cause\",\"Other, Unknown\"],[\"Camping\",\"Unknown\"],[\"Unknown\",\"Unknown\"],[\"Unknown\",\"Unknown\"],[\"Unknown\",\"Unknown\"],[\"Unknown\",\"Unknown\"],[\"Unknown\",\"Unknown\"],[\"Unknown\",\"Unknown\"],[\"Unknown\",\"Unknown\"],[\"Unknown\",\"Unknown\"],[\"Unknown\",\"Unknown\"],[\"Unknown\",\"Unknown\"],[\"Unknown\",\"Unknown\"],[\"Unknown\",\"Unknown\"],[\"Unknown\",\"Unknown\"],[\"Unknown\",\"Unknown\"],[\"Unknown\",\"Unknown\"],[\"Unknown\",\"Unknown\"],[\"Unknown\",\"Unknown\"],[\"Unknown\",\"Unknown\"],[\"Unknown\",\"Unknown\"],[\"Utilities\",\"Power Generation/Transmission\"],[\"Unknown\",\"Unknown\"],[\"Unknown\",\"Unknown\"],[\"Unknown\",\"Unknown\"],[\"Unknown\",\"Unknown\"],[\"Unknown\",\"Unknown\"],[\"Unknown\",\"Unknown\"],[\"Unknown\",\"Unknown\"],[\"Unknown\",\"Unknown\"],[\"Unknown\",\"Unknown\"],[\"Unknown\",\"Unknown\"],[\"Unknown\",\"Unknown\"],[\"Unknown\",\"Unknown\"],[\"Unknown\",\"Unknown\"],[\"Unknown\",\"Unknown\"],[\"Unknown\",\"Unknown\"],[\"Unknown\",\"Unknown\"],[\"Unknown\",\"Unknown\"],[\"Unknown\",\"Unknown\"],[\"Unknown\",\"Unknown\"],[\"Unknown\",\"Unknown\"],[\"Unknown\",\"Unknown\"],[\"Unknown\",\"Unknown\"],[\"Unknown\",\"Unknown\"],[\"Unknown\",\"Unknown\"],[\"Unknown\",\"Unknown\"],[\"Unknown\",\"Unknown\"],[\"Unknown\",\"Unknown\"],[\"Unknown\",\"Unknown\"],[\"Unknown\",\"Unknown\"],[\"Unknown\",\"Unknown\"],[\"Unknown\",\"Unknown\"],[\"Unknown\",\"Unknown\"],[\"Unknown\",\"Unknown\"],[\"Unknown\",\"Unknown\"],[\"Undetermined\",\"Unknown\"],[\"Undetermined\",\"Unknown\"],[\"Unknown\",\"Unknown\"],[\"Unknown\",\"Unknown\"],[\"Unknown\",\"Unknown\"],[\"Unknown\",\"Unknown\"],[\"Unknown\",\"Unknown\"],[\"Unknown\",\"Unknown\"],[\"Unknown\",\"Unknown\"],[\"Unknown\",\"Unknown\"],[\"Unknown\",\"Unknown\"],[\"Unknown\",\"Unknown\"],[\"Unknown\",\"Unknown\"],[\"Unknown\",\"Unknown\"],[\"Unknown\",\"Unknown\"],[\"Unknown\",\"Unknown\"],[\"Unknown\",\"Unknown\"],[\"Unknown\",\"Unknown\"],[\"Unknown\",\"Unknown\"],[\"Unknown\",\"Unknown\"],[\"Unknown\",\"Unknown\"],[\"Unknown\",\"Unknown\"],[\"Unknown\",\"Unknown\"],[\"Unknown\",\"Unknown\"],[\"Unknown\",\"Unknown\"],[\"Unknown\",\"Unknown\"],[\"Unknown\",\"Unknown\"],[\"Unknown\",\"Unknown\"],[\"Unknown\",\"Unknown\"],[\"Unknown\",\"Unknown\"],[\"Unknown\",\"Unknown\"],[\"Unknown\",\"Unknown\"],[\"Unknown\",\"Unknown\"],[\"Unknown\",\"Unknown\"],[\"Unknown\",\"Unknown\"],[\"Unknown\",\"Unknown\"],[\"Unknown\",\"Unknown\"],[\"Unknown\",\"Unknown\"],[\"Unknown\",\"Unknown\"],[\"Unknown\",\"Unknown\"],[\"Unknown\",\"Unknown\"],[\"Unknown\",\"Unknown\"],[\"Unknown\",\"Unknown\"],[\"Undetermined\",\"Unknown\"],[\"Undetermined\",\"Unknown\"],[\"Undetermined\",\"Unknown\"],[\"Undetermined\",\"Unknown\"],[\"Unknown\",\"Unknown\"],[\"Unknown\",\"Unknown\"],[\"Unknown\",\"Unknown\"],[\"Unknown\",\"Unknown\"],[\"Unknown\",\"Unknown\"],[\"Unknown\",\"Unknown\"],[\"Unknown\",\"Unknown\"],[\"Unknown\",\"Unknown\"],[\"Unknown\",\"Unknown\"],[\"Unknown\",\"Unknown\"],[\"Unknown\",\"Unknown\"],[\"Unknown\",\"Unknown\"],[\"Unknown\",\"Unknown\"],[\"Unknown\",\"Unknown\"],[\"Unknown\",\"Unknown\"],[\"Unknown\",\"Unknown\"],[\"Unknown\",\"Unknown\"],[\"Unknown\",\"Unknown\"],[\"Unknown\",\"Unknown\"],[\"Unknown\",\"Unknown\"],[\"Unknown\",\"Unknown\"],[\"Unknown\",\"Unknown\"],[\"Unknown\",\"Unknown\"],[\"Unknown\",\"Unknown\"],[\"Unknown\",\"Unknown\"]],\"geo\":\"geo\",\"hovertemplate\":\"FireCause=Unknown<br>InitialLatitude=%{lat}<br>InitialLongitude=%{lon}<br>FireCauseGeneral=%{customdata[0]}<br>FireCauseSpecific=%{customdata[1]}<extra></extra>\",\"lat\":[36.946,38.21304,37.96474,36.35195,37.27913,null,37.18592,35.91182,37.72044,37.68223,42.51338,46.01192,45.62949,45.62123,46.555515,43.99332,43.869292,43.510483,43.10283,36.581677,39.71218,35.42961,47.37994,39.61339,35.11411,31.02323,48.26895,30.0,30.40677,40.47693,37.8141,38.61678,47.35012,44.96374,30.21593,31.5336,30.19266,33.726328,null,32.48318,32.93291,null,36.80378,32.49542,30.97484,33.26722,37.726667,35.11592,36.8049,35.55433,31.16089,27.10666,32.81838,46.37329,35.3294,48.084074,null,47.267667,35.2375,37.371389,33.30736,33.47534,33.942702,33.745806,34.70395,33.683847,25.98514,33.928,34.0370345,32.708713,34.75892,37.074451,33.757839,33.816461,null,33.9945,33.941821,36.850879,33.768969,34.6161,33.967161,34.5579,33.851461,33.288932,30.33386,34.74792,33.935434,34.58351,33.919765,41.909967,null,34.63119,33.68657,33.75331,33.924574,null,33.28604,33.773894,33.93032,34.010591,33.92625,33.9281,36.561046,33.675674,33.92976,33.92511,33.794401,33.698022,33.741638,33.569691,33.27413,null,null,null,null,34.36506,33.767017,33.925439,34.66026,33.491638,34.84431,40.948195,33.831104,36.68253,33.840121,34.136074,33.716493,33.8758,34.010591,34.66026,33.683371,36.73976,38.22912,33.810763,33.98909,36.80447,35.1319,33.6407,36.959787,null],\"legendgroup\":\"Unknown\",\"lon\":[-84.257,-111.4088,-106.6391,-106.9621,-83.656635,null,-120.6443,-119.4151,-121.1491,-121.2064,-118.5952,-116.9107,-121.2319,-121.1105,-115.096913,-122.6131,-122.408533,-122.675989,-122.875,-118.794833,-110.1596,-84.06229,-112.7664,-111.1866,-84.6155,-88.88161,-104.38963,-84.99987,-85.25896,-111.1568,-109.4193,-111.9581,-115.2611,-109.2161,-84.92751,-88.88557,-82.43383,-117.267907,null,-89.59841,-108.0127,null,-91.11462,-89.59442,-88.85441,-89.10298,-90.901667,-84.5742,-91.1408,-106.3519,-92.60435,-81.08321,-108.1474,-84.73794,-96.633,-105.065979,null,-110.500667,-96.279722,-83.749444,-108.8875,-107.797,-117.22644,-116.892386,-118.16587,-117.3946,-80.90269,-116.845189,-98.92943152,-99.76203,-117.0098,-121.604143,-117.112942,-116.392852,null,-117.402168,-117.273734,-120.563198,-116.446013,-118.12344,-117.466631,-118.1323,-117.470461,-116.810503,-82.59996,-118.14452,-117.233319,-118.2022,-116.423148,-122.269117,null,-117.84941,-117.395805,-117.032888,-116.881112,null,-116.8088,-117.252368,-118.3684,-117.430135,-118.2134,-118.05203,-120.388898,-116.181594,-118.369,-118.21,-116.97157,-117.187805,-116.21665,-116.078401,-115.4795,null,null,null,null,-118.50341,-116.927537,-116.897798,-118.1531,-116.117923,-94.40856,-120.770207,-116.226866,-119.207236,-116.244267,-116.30969,-116.17103,-118.08222,-117.430135,-118.13053,-117.37205,-100.7831,-94.64069,-117.22607,-118.20527,-92.00818,-96.62301,-117.4338,-120.062887,null],\"marker\":{\"color\":\"#636efa\",\"symbol\":\"circle\"},\"mode\":\"markers\",\"name\":\"Unknown\",\"showlegend\":true,\"type\":\"scattergeo\"},{\"customdata\":[[\"Unknown\",\"Unknown\"],[\"Unknown\",\"Unknown\"],[\"Unknown\",\"Unknown\"],[\"Other Human Cause\",\"Fireworks (Consumer or Personal Use)\"],[\"Utilities\",\"Unknown\"],[\"Unknown\",\"Unknown\"],[\"Unknown\",\"Unknown\"],[\"Unknown\",\"Unknown\"],[\"Unknown\",\"Unknown\"],[\"Unknown\",\"Unknown\"],[\"Unknown\",\"Unknown\"],[\"Unknown\",\"Unknown\"],[\"Unknown\",\"Unknown\"],[\"Unknown\",\"Unknown\"],[\"Unknown\",\"Unknown\"],[\"Unknown\",\"Unknown\"],[\"Unknown\",\"Unknown\"],[\"Unknown\",\"Unknown\"],[\"Unknown\",\"Unknown\"],[\"Unknown\",\"Unknown\"],[\"Unknown\",\"Unknown\"],[\"Unknown\",\"Unknown\"],[\"Unknown\",\"Unknown\"],[\"Unknown\",\"Unknown\"],[\"Unknown\",\"Unknown\"],[\"Unknown\",\"Unknown\"],[\"Unknown\",\"Unknown\"],[\"Unknown\",\"Unknown\"],[\"Unknown\",\"Unknown\"],[\"Utilities\",\"Power Generation/Transmission\"],[\"Unknown\",\"Unknown\"],[\"Unknown\",\"Unknown\"],[\"Unknown\",\"Unknown\"],[\"Unknown\",\"Unknown\"],[\"Unknown\",\"Unknown\"],[\"Other Human Cause\",\"Unknown\"],[\"Equipment\",\"Motor Vehicle\"],[\"Camping\",\"Unknown\"],[\"Unknown\",\"Unknown\"],[\"Utilities\",\"Power Generation/Transmission\"],[\"Unknown\",\"Unknown\"],[\"Unknown\",\"Unknown\"]],\"geo\":\"geo\",\"hovertemplate\":\"FireCause=Human<br>InitialLatitude=%{lat}<br>InitialLongitude=%{lon}<br>FireCauseGeneral=%{customdata[0]}<br>FireCauseSpecific=%{customdata[1]}<extra></extra>\",\"lat\":[43.76278,43.7611,47.97597,46.5758,46.56453,null,null,47.28637,null,null,35.23251,null,null,null,null,null,null,null,null,null,null,null,null,null,null,null,null,40.39803,35.66993,35.659417,null,34.94162,null,null,34.84836,null,null,null,34.07633,null,37.30074,34.61794],\"legendgroup\":\"Human\",\"lon\":[-103.4538,-103.4674,-91.53809,-111.9849,-109.7912,null,null,-110.15795,null,null,-95.79134,null,null,null,null,null,null,null,null,null,null,null,null,null,null,null,null,-99.14119,-100.0255,-101.871421,null,-96.70055,null,null,-98.38602,null,null,null,-92.60194,null,-88.62199,-98.68299],\"marker\":{\"color\":\"#EF553B\",\"symbol\":\"circle\"},\"mode\":\"markers\",\"name\":\"Human\",\"showlegend\":true,\"type\":\"scattergeo\"},{\"customdata\":[[\"Unknown\",\"Unknown\"],[\"Unknown\",\"Unknown\"],[\"Unknown\",\"Unknown\"],[\"Other Natural Cause\",\"Unknown\"]],\"geo\":\"geo\",\"hovertemplate\":\"FireCause=Natural<br>InitialLatitude=%{lat}<br>InitialLongitude=%{lon}<br>FireCauseGeneral=%{customdata[0]}<br>FireCauseSpecific=%{customdata[1]}<extra></extra>\",\"lat\":[40.75228,36.56688,36.50725,null],\"legendgroup\":\"Natural\",\"lon\":[-123.3367,-118.8115,-118.7675,null],\"marker\":{\"color\":\"#00cc96\",\"symbol\":\"circle\"},\"mode\":\"markers\",\"name\":\"Natural\",\"showlegend\":true,\"type\":\"scattergeo\"}],                        {\"template\":{\"data\":{\"bar\":[{\"error_x\":{\"color\":\"#2a3f5f\"},\"error_y\":{\"color\":\"#2a3f5f\"},\"marker\":{\"line\":{\"color\":\"#E5ECF6\",\"width\":0.5},\"pattern\":{\"fillmode\":\"overlay\",\"size\":10,\"solidity\":0.2}},\"type\":\"bar\"}],\"barpolar\":[{\"marker\":{\"line\":{\"color\":\"#E5ECF6\",\"width\":0.5},\"pattern\":{\"fillmode\":\"overlay\",\"size\":10,\"solidity\":0.2}},\"type\":\"barpolar\"}],\"carpet\":[{\"aaxis\":{\"endlinecolor\":\"#2a3f5f\",\"gridcolor\":\"white\",\"linecolor\":\"white\",\"minorgridcolor\":\"white\",\"startlinecolor\":\"#2a3f5f\"},\"baxis\":{\"endlinecolor\":\"#2a3f5f\",\"gridcolor\":\"white\",\"linecolor\":\"white\",\"minorgridcolor\":\"white\",\"startlinecolor\":\"#2a3f5f\"},\"type\":\"carpet\"}],\"choropleth\":[{\"colorbar\":{\"outlinewidth\":0,\"ticks\":\"\"},\"type\":\"choropleth\"}],\"contour\":[{\"colorbar\":{\"outlinewidth\":0,\"ticks\":\"\"},\"colorscale\":[[0.0,\"#0d0887\"],[0.1111111111111111,\"#46039f\"],[0.2222222222222222,\"#7201a8\"],[0.3333333333333333,\"#9c179e\"],[0.4444444444444444,\"#bd3786\"],[0.5555555555555556,\"#d8576b\"],[0.6666666666666666,\"#ed7953\"],[0.7777777777777778,\"#fb9f3a\"],[0.8888888888888888,\"#fdca26\"],[1.0,\"#f0f921\"]],\"type\":\"contour\"}],\"contourcarpet\":[{\"colorbar\":{\"outlinewidth\":0,\"ticks\":\"\"},\"type\":\"contourcarpet\"}],\"heatmap\":[{\"colorbar\":{\"outlinewidth\":0,\"ticks\":\"\"},\"colorscale\":[[0.0,\"#0d0887\"],[0.1111111111111111,\"#46039f\"],[0.2222222222222222,\"#7201a8\"],[0.3333333333333333,\"#9c179e\"],[0.4444444444444444,\"#bd3786\"],[0.5555555555555556,\"#d8576b\"],[0.6666666666666666,\"#ed7953\"],[0.7777777777777778,\"#fb9f3a\"],[0.8888888888888888,\"#fdca26\"],[1.0,\"#f0f921\"]],\"type\":\"heatmap\"}],\"heatmapgl\":[{\"colorbar\":{\"outlinewidth\":0,\"ticks\":\"\"},\"colorscale\":[[0.0,\"#0d0887\"],[0.1111111111111111,\"#46039f\"],[0.2222222222222222,\"#7201a8\"],[0.3333333333333333,\"#9c179e\"],[0.4444444444444444,\"#bd3786\"],[0.5555555555555556,\"#d8576b\"],[0.6666666666666666,\"#ed7953\"],[0.7777777777777778,\"#fb9f3a\"],[0.8888888888888888,\"#fdca26\"],[1.0,\"#f0f921\"]],\"type\":\"heatmapgl\"}],\"histogram\":[{\"marker\":{\"pattern\":{\"fillmode\":\"overlay\",\"size\":10,\"solidity\":0.2}},\"type\":\"histogram\"}],\"histogram2d\":[{\"colorbar\":{\"outlinewidth\":0,\"ticks\":\"\"},\"colorscale\":[[0.0,\"#0d0887\"],[0.1111111111111111,\"#46039f\"],[0.2222222222222222,\"#7201a8\"],[0.3333333333333333,\"#9c179e\"],[0.4444444444444444,\"#bd3786\"],[0.5555555555555556,\"#d8576b\"],[0.6666666666666666,\"#ed7953\"],[0.7777777777777778,\"#fb9f3a\"],[0.8888888888888888,\"#fdca26\"],[1.0,\"#f0f921\"]],\"type\":\"histogram2d\"}],\"histogram2dcontour\":[{\"colorbar\":{\"outlinewidth\":0,\"ticks\":\"\"},\"colorscale\":[[0.0,\"#0d0887\"],[0.1111111111111111,\"#46039f\"],[0.2222222222222222,\"#7201a8\"],[0.3333333333333333,\"#9c179e\"],[0.4444444444444444,\"#bd3786\"],[0.5555555555555556,\"#d8576b\"],[0.6666666666666666,\"#ed7953\"],[0.7777777777777778,\"#fb9f3a\"],[0.8888888888888888,\"#fdca26\"],[1.0,\"#f0f921\"]],\"type\":\"histogram2dcontour\"}],\"mesh3d\":[{\"colorbar\":{\"outlinewidth\":0,\"ticks\":\"\"},\"type\":\"mesh3d\"}],\"parcoords\":[{\"line\":{\"colorbar\":{\"outlinewidth\":0,\"ticks\":\"\"}},\"type\":\"parcoords\"}],\"pie\":[{\"automargin\":true,\"type\":\"pie\"}],\"scatter\":[{\"marker\":{\"colorbar\":{\"outlinewidth\":0,\"ticks\":\"\"}},\"type\":\"scatter\"}],\"scatter3d\":[{\"line\":{\"colorbar\":{\"outlinewidth\":0,\"ticks\":\"\"}},\"marker\":{\"colorbar\":{\"outlinewidth\":0,\"ticks\":\"\"}},\"type\":\"scatter3d\"}],\"scattercarpet\":[{\"marker\":{\"colorbar\":{\"outlinewidth\":0,\"ticks\":\"\"}},\"type\":\"scattercarpet\"}],\"scattergeo\":[{\"marker\":{\"colorbar\":{\"outlinewidth\":0,\"ticks\":\"\"}},\"type\":\"scattergeo\"}],\"scattergl\":[{\"marker\":{\"colorbar\":{\"outlinewidth\":0,\"ticks\":\"\"}},\"type\":\"scattergl\"}],\"scattermapbox\":[{\"marker\":{\"colorbar\":{\"outlinewidth\":0,\"ticks\":\"\"}},\"type\":\"scattermapbox\"}],\"scatterpolar\":[{\"marker\":{\"colorbar\":{\"outlinewidth\":0,\"ticks\":\"\"}},\"type\":\"scatterpolar\"}],\"scatterpolargl\":[{\"marker\":{\"colorbar\":{\"outlinewidth\":0,\"ticks\":\"\"}},\"type\":\"scatterpolargl\"}],\"scatterternary\":[{\"marker\":{\"colorbar\":{\"outlinewidth\":0,\"ticks\":\"\"}},\"type\":\"scatterternary\"}],\"surface\":[{\"colorbar\":{\"outlinewidth\":0,\"ticks\":\"\"},\"colorscale\":[[0.0,\"#0d0887\"],[0.1111111111111111,\"#46039f\"],[0.2222222222222222,\"#7201a8\"],[0.3333333333333333,\"#9c179e\"],[0.4444444444444444,\"#bd3786\"],[0.5555555555555556,\"#d8576b\"],[0.6666666666666666,\"#ed7953\"],[0.7777777777777778,\"#fb9f3a\"],[0.8888888888888888,\"#fdca26\"],[1.0,\"#f0f921\"]],\"type\":\"surface\"}],\"table\":[{\"cells\":{\"fill\":{\"color\":\"#EBF0F8\"},\"line\":{\"color\":\"white\"}},\"header\":{\"fill\":{\"color\":\"#C8D4E3\"},\"line\":{\"color\":\"white\"}},\"type\":\"table\"}]},\"layout\":{\"annotationdefaults\":{\"arrowcolor\":\"#2a3f5f\",\"arrowhead\":0,\"arrowwidth\":1},\"autotypenumbers\":\"strict\",\"coloraxis\":{\"colorbar\":{\"outlinewidth\":0,\"ticks\":\"\"}},\"colorscale\":{\"diverging\":[[0,\"#8e0152\"],[0.1,\"#c51b7d\"],[0.2,\"#de77ae\"],[0.3,\"#f1b6da\"],[0.4,\"#fde0ef\"],[0.5,\"#f7f7f7\"],[0.6,\"#e6f5d0\"],[0.7,\"#b8e186\"],[0.8,\"#7fbc41\"],[0.9,\"#4d9221\"],[1,\"#276419\"]],\"sequential\":[[0.0,\"#0d0887\"],[0.1111111111111111,\"#46039f\"],[0.2222222222222222,\"#7201a8\"],[0.3333333333333333,\"#9c179e\"],[0.4444444444444444,\"#bd3786\"],[0.5555555555555556,\"#d8576b\"],[0.6666666666666666,\"#ed7953\"],[0.7777777777777778,\"#fb9f3a\"],[0.8888888888888888,\"#fdca26\"],[1.0,\"#f0f921\"]],\"sequentialminus\":[[0.0,\"#0d0887\"],[0.1111111111111111,\"#46039f\"],[0.2222222222222222,\"#7201a8\"],[0.3333333333333333,\"#9c179e\"],[0.4444444444444444,\"#bd3786\"],[0.5555555555555556,\"#d8576b\"],[0.6666666666666666,\"#ed7953\"],[0.7777777777777778,\"#fb9f3a\"],[0.8888888888888888,\"#fdca26\"],[1.0,\"#f0f921\"]]},\"colorway\":[\"#636efa\",\"#EF553B\",\"#00cc96\",\"#ab63fa\",\"#FFA15A\",\"#19d3f3\",\"#FF6692\",\"#B6E880\",\"#FF97FF\",\"#FECB52\"],\"font\":{\"color\":\"#2a3f5f\"},\"geo\":{\"bgcolor\":\"white\",\"lakecolor\":\"white\",\"landcolor\":\"#E5ECF6\",\"showlakes\":true,\"showland\":true,\"subunitcolor\":\"white\"},\"hoverlabel\":{\"align\":\"left\"},\"hovermode\":\"closest\",\"mapbox\":{\"style\":\"light\"},\"paper_bgcolor\":\"white\",\"plot_bgcolor\":\"#E5ECF6\",\"polar\":{\"angularaxis\":{\"gridcolor\":\"white\",\"linecolor\":\"white\",\"ticks\":\"\"},\"bgcolor\":\"#E5ECF6\",\"radialaxis\":{\"gridcolor\":\"white\",\"linecolor\":\"white\",\"ticks\":\"\"}},\"scene\":{\"xaxis\":{\"backgroundcolor\":\"#E5ECF6\",\"gridcolor\":\"white\",\"gridwidth\":2,\"linecolor\":\"white\",\"showbackground\":true,\"ticks\":\"\",\"zerolinecolor\":\"white\"},\"yaxis\":{\"backgroundcolor\":\"#E5ECF6\",\"gridcolor\":\"white\",\"gridwidth\":2,\"linecolor\":\"white\",\"showbackground\":true,\"ticks\":\"\",\"zerolinecolor\":\"white\"},\"zaxis\":{\"backgroundcolor\":\"#E5ECF6\",\"gridcolor\":\"white\",\"gridwidth\":2,\"linecolor\":\"white\",\"showbackground\":true,\"ticks\":\"\",\"zerolinecolor\":\"white\"}},\"shapedefaults\":{\"line\":{\"color\":\"#2a3f5f\"}},\"ternary\":{\"aaxis\":{\"gridcolor\":\"white\",\"linecolor\":\"white\",\"ticks\":\"\"},\"baxis\":{\"gridcolor\":\"white\",\"linecolor\":\"white\",\"ticks\":\"\"},\"bgcolor\":\"#E5ECF6\",\"caxis\":{\"gridcolor\":\"white\",\"linecolor\":\"white\",\"ticks\":\"\"}},\"title\":{\"x\":0.05},\"xaxis\":{\"automargin\":true,\"gridcolor\":\"white\",\"linecolor\":\"white\",\"ticks\":\"\",\"title\":{\"standoff\":15},\"zerolinecolor\":\"white\",\"zerolinewidth\":2},\"yaxis\":{\"automargin\":true,\"gridcolor\":\"white\",\"linecolor\":\"white\",\"ticks\":\"\",\"title\":{\"standoff\":15},\"zerolinecolor\":\"white\",\"zerolinewidth\":2}}},\"geo\":{\"domain\":{\"x\":[0.0,1.0],\"y\":[0.0,1.0]},\"center\":{}},\"legend\":{\"title\":{\"text\":\"FireCause\"},\"tracegroupgap\":0},\"margin\":{\"t\":60},\"title\":{\"text\":\"World map\",\"x\":0.5}},                        {\"responsive\": true}                    ).then(function(){\n",
       "                            \n",
       "var gd = document.getElementById('b082ef1a-dca0-4783-933c-d055882eaa7d');\n",
       "var x = new MutationObserver(function (mutations, observer) {{\n",
       "        var display = window.getComputedStyle(gd).display;\n",
       "        if (!display || display === 'none') {{\n",
       "            console.log([gd, 'removed!']);\n",
       "            Plotly.purge(gd);\n",
       "            observer.disconnect();\n",
       "        }}\n",
       "}});\n",
       "\n",
       "// Listen for the removal of the full notebook cells\n",
       "var notebookContainer = gd.closest('#notebook-container');\n",
       "if (notebookContainer) {{\n",
       "    x.observe(notebookContainer, {childList: true});\n",
       "}}\n",
       "\n",
       "// Listen for the clearing of the current output cell\n",
       "var outputEl = gd.closest('.output');\n",
       "if (outputEl) {{\n",
       "    x.observe(outputEl, {childList: true});\n",
       "}}\n",
       "\n",
       "                        })                };                });            </script>        </div>"
      ]
     },
     "metadata": {},
     "output_type": "display_data"
    }
   ],
   "source": [
    "import plotly.express as px\n",
    "import pandas as pd\n",
    "import numpy as np\n",
    "import import_ipynb\n",
    "import os\n",
    "import sys\n",
    "sys.path.append(os.getcwd)\n",
    "import Data_Acquisition\n",
    "\n",
    "URL_live = \"https://data-nifc.opendata.arcgis.com/datasets/wfigs-current-wildland-fire-locations/explore?showTable=true\"\n",
    "path_csv = \"Live_Wildland_Fires.csv\"\n",
    "Data_Acquisition.runProgram(URL_live, path_csv)\n",
    "\n",
    "df_org = pd.read_csv(path_csv)\n",
    "df = df_org[['InitialLatitude', 'InitialLongitude', 'FireCause', 'FireCauseGeneral', 'FireCauseSpecific']].copy()\n",
    "\n",
    "df.loc[df.FireCause == \"Undetermined\", \"FireCause\"] = \"Unknown\"\n",
    "df.update(df[['FireCause', 'FireCauseGeneral', 'FireCauseSpecific']].fillna(value=\"Unknown\"))\n",
    "\n",
    "fig = px.scatter_geo(df,\n",
    "                     lat='InitialLatitude',lon='InitialLongitude', \n",
    "                     hover_data=['FireCauseGeneral', 'FireCauseSpecific'], \n",
    "                     color=df['FireCause'])\n",
    "fig.update_layout(title = 'World map', title_x=0.5)\n",
    "fig.show()"
   ]
  },
  {
   "cell_type": "code",
   "execution_count": null,
   "id": "0cf4ea26",
   "metadata": {},
   "outputs": [],
   "source": []
  }
 ],
 "metadata": {
  "kernelspec": {
   "display_name": "Python 3",
   "language": "python",
   "name": "python3"
  },
  "language_info": {
   "codemirror_mode": {
    "name": "ipython",
    "version": 3
   },
   "file_extension": ".py",
   "mimetype": "text/x-python",
   "name": "python",
   "nbconvert_exporter": "python",
   "pygments_lexer": "ipython3",
   "version": "3.8.8"
  }
 },
 "nbformat": 4,
 "nbformat_minor": 5
}
