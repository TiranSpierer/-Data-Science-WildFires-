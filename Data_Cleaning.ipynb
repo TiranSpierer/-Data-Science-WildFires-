{
 "cells": [
  {
   "cell_type": "code",
   "execution_count": null,
   "id": "86b32284",
   "metadata": {},
   "outputs": [],
   "source": [
    "import pandas as pd\n",
    "import numpy as np\n",
    "from datetime import datetime\n",
    "import reverse_geocoder as rg"
   ]
  },
  {
   "cell_type": "markdown",
   "id": "9e369781",
   "metadata": {},
   "source": [
    "Helper Functions"
   ]
  },
  {
   "cell_type": "code",
   "execution_count": null,
   "id": "5e49906d",
   "metadata": {},
   "outputs": [],
   "source": [
    "def removeCoordinatesOutOfBounds(df, location): \n",
    "    falsePositives = {(42.86744, -86.81662), (41.275833, -70.055833), (35.71333, -75.4865), (35.85408, -75.57812), \n",
    "                      (28.59278, -80.40258), (25.31667, -82.53156), (29.07127, -83.39877), (30, -88.97737), \n",
    "                      (32.4944, -121.4582), (53, -148), (33.9897, -119.7199), (40.00139, -124.6116),\n",
    "                      (41.703833, -124.711667), (41.99665, -124.661)}\n",
    "    for a, b in falsePositives:\n",
    "        df = df[np.logical_and(df['Lat'] != a, df['Long'] != b)]\n",
    "        \n",
    "    df.reset_index(inplace=True, drop=True)\n",
    "    coordinates = ()\n",
    "    \n",
    "    for (a, b) in zip(df.Lat, df.Long):\n",
    "        coordinates += ((a, b),)\n",
    "\n",
    "    results = rg.search(coordinates)\n",
    "    indexes = [idx for idx, result in enumerate(results) if result['cc'] != location]\n",
    "    df.drop(indexes, axis=0, inplace=True)\n",
    "    \n",
    "    return df"
   ]
  },
  {
   "cell_type": "code",
   "execution_count": null,
   "id": "f1c8af43",
   "metadata": {},
   "outputs": [],
   "source": [
    "def durationDays(start, end):\n",
    "    start = datetime.fromisoformat(start)\n",
    "    end = datetime.fromisoformat(end)\n",
    "    duration = end - start\n",
    "    return duration.days + (duration.seconds/60/60/24)"
   ]
  },
  {
   "cell_type": "code",
   "execution_count": null,
   "id": "2342e19e",
   "metadata": {},
   "outputs": [],
   "source": [
    "def combineFullAndRecent(df_full, df_recent):\n",
    "    df_recent = convertDateTime(df_recent)\n",
    "    df = df_recent.append(df_full)\n",
    "    df = df.reset_index(drop=True)\n",
    "    return df"
   ]
  },
  {
   "cell_type": "markdown",
   "id": "264397be",
   "metadata": {},
   "source": [
    "Clean Columns"
   ]
  },
  {
   "cell_type": "code",
   "execution_count": null,
   "id": "344f3718",
   "metadata": {},
   "outputs": [],
   "source": [
    "def getRelevantColumns(df_original):\n",
    "    df = df_original.drop_duplicates(subset='UniqueFireIdentifier').copy()\n",
    "    df = df[['InitialLatitude', 'InitialLongitude', 'POOState', 'FireCause', 'InitialResponseAcres',\n",
    "             'IsFSAssisted', 'FireDiscoveryDateTime', 'FireOutDateTime']]\n",
    "    return df"
   ]
  },
  {
   "cell_type": "code",
   "execution_count": null,
   "id": "94840d47",
   "metadata": {},
   "outputs": [],
   "source": [
    "def fixColumns(df):\n",
    "    df.rename(columns={\"InitialLatitude\":\"Lat\", \"InitialLongitude\":\"Long\", \"POOState\":\"State\"}, inplace=True)\n",
    "    df[\"State\"] = df[\"State\"].str.replace(\"US-\", \"\")\n",
    "    df.loc[df.FireCause == \"Undetermined\", \"FireCause\"] = \"Unknown\"\n",
    "    return df"
   ]
  },
  {
   "cell_type": "code",
   "execution_count": null,
   "id": "c14c7674",
   "metadata": {},
   "outputs": [],
   "source": [
    "def addColumns(df):\n",
    "    # Duration of the fire in days starting from discovery and ending with extinguished fire.\n",
    "    df[\"FireDurationDays\"] = [durationDays(s, e) for (s, e) in zip(df['FireDiscoveryDateTime'], df['FireOutDateTime'])]\n",
    "    \n",
    "    # Extra column to help with EDA and ML\n",
    "    df.loc[df.FireCause == \"Human\", \"FireCauseNum\"] = 0\n",
    "    df.loc[df.FireCause == \"Natural\", \"FireCauseNum\"] = 1\n",
    "    df.loc[df.FireCause == \"Unknown\", \"FireCauseNum\"] = 2\n",
    "    return df"
   ]
  },
  {
   "cell_type": "code",
   "execution_count": null,
   "id": "cf2f2c6e",
   "metadata": {},
   "outputs": [],
   "source": [
    "def convertDateTime(df):\n",
    "    def convert(s):\n",
    "        if isinstance(s, str):\n",
    "            d = datetime.strptime(s, '%m-%d-%Y, %I:%M %p')\n",
    "            d = d.strftime('%Y-%m-%d %H:%M:%S')\n",
    "            return str(d)\n",
    "        else:\n",
    "            return np.NaN\n",
    "    \n",
    "    dateTimes = [col for col in df if \"Date\" in col]\n",
    "\n",
    "    for col in dateTimes:\n",
    "        if df[col].dtypes == np.dtype(\"O\"):\n",
    "            df[col] = df[col].str.replace('/','-')\n",
    "            df[col] = [convert(x) for x in df[col]]\n",
    "    return df"
   ]
  },
  {
   "cell_type": "markdown",
   "id": "727ecefa",
   "metadata": {},
   "source": [
    "Clean Rows"
   ]
  },
  {
   "cell_type": "code",
   "execution_count": null,
   "id": "d73c913b",
   "metadata": {},
   "outputs": [],
   "source": [
    "def dropRows(df):\n",
    "    df.dropna(how=\"any\", inplace=True)\n",
    "    df = removeCoordinatesOutOfBounds(df, \"US\")\n",
    "    return df"
   ]
  },
  {
   "cell_type": "markdown",
   "id": "f0b550d0",
   "metadata": {},
   "source": [
    "Program"
   ]
  },
  {
   "cell_type": "code",
   "execution_count": null,
   "id": "77de7f2e",
   "metadata": {},
   "outputs": [],
   "source": [
    "def runProgram():\n",
    "    df_full = pd.read_csv(\"Full_Wildland_Fires.csv\")\n",
    "    df_recent = pd.read_csv(\"Recent_Wildland_Fires.csv\")\n",
    "    \n",
    "    df = combineFullAndRecent(df_full, df_recent)\n",
    "    df = getRelevantColumns(df)\n",
    "    df = fixColumns(df)\n",
    "    df = dropRows(df)\n",
    "    df = addColumns(df)\n",
    "    return df"
   ]
  },
  {
   "cell_type": "markdown",
   "id": "a82ab2e8",
   "metadata": {},
   "source": [
    "Driver Code"
   ]
  },
  {
   "cell_type": "code",
   "execution_count": null,
   "id": "ba746ec7",
   "metadata": {},
   "outputs": [],
   "source": [
    "df = runProgram()\n",
    "df.to_csv(\"Cleaned_Wildland_Fires.csv\", index=False)"
   ]
  }
 ],
 "metadata": {
  "kernelspec": {
   "display_name": "Python 3",
   "language": "python",
   "name": "python3"
  },
  "language_info": {
   "codemirror_mode": {
    "name": "ipython",
    "version": 3
   },
   "file_extension": ".py",
   "mimetype": "text/x-python",
   "name": "python",
   "nbconvert_exporter": "python",
   "pygments_lexer": "ipython3",
   "version": "3.8.8"
  }
 },
 "nbformat": 4,
 "nbformat_minor": 5
}
