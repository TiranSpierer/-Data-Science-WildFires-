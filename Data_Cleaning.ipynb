{
 "cells": [
  {
   "cell_type": "markdown",
   "id": "c821b441",
   "metadata": {},
   "source": [
    "# Data Cleaning"
   ]
  },
  {
   "cell_type": "code",
   "execution_count": 1,
   "id": "a88920e1",
   "metadata": {},
   "outputs": [],
   "source": [
    "import json\n",
    "import requests\n",
    "import numpy as np\n",
    "import pandas as pd\n",
    "from datetime import datetime\n",
    "import reverse_geocoder as rg"
   ]
  },
  {
   "cell_type": "markdown",
   "id": "c984c1bb",
   "metadata": {},
   "source": [
    "## Weather\n",
    "##### Recieve weather data for a state at the dates of the fires. \n",
    "##### Sending each (lat, long) would take too long and cost a lot of money, so for temperature we take the highest temp of that day which is whats releveant for a fire."
   ]
  },
  {
   "cell_type": "code",
   "execution_count": null,
   "id": "6d8f3c53",
   "metadata": {},
   "outputs": [],
   "source": [
    "# visualcrossing API for weather data\n",
    "def historyWeatherAPI(location, date):\n",
    "    key = \"UQSRASVQA4PFTETMQEG3QMZX7\" \n",
    "    url = \"https://weather.visualcrossing.com/VisualCrossingWebServices/rest/services/weatherdata/history?\"\n",
    "    \n",
    "    querystring ={\"location\":location,\n",
    "                  \"contentType \":\"JSON\",\n",
    "                  \"key\":key,\n",
    "                  \"lang\":\"en\",\n",
    "                  \"aggregateHours\":\"24\",\n",
    "                  \"startDateTime\":date,\n",
    "                  \"endDateTime\":date}\n",
    "\n",
    "    response = requests.request(\"GET\", url, params=querystring)\n",
    "    response = response.text.split(\",\")\n",
    "    MaxTemp, Humidity, WindSpeed, Precipitation = response[27], response[30], response[32], response[36]\n",
    "    return [MaxTemp, Humidity, WindSpeed, Precipitation]"
   ]
  },
  {
   "cell_type": "code",
   "execution_count": null,
   "id": "fd53ac67",
   "metadata": {},
   "outputs": [],
   "source": [
    "def runWeather(df):\n",
    "    df_weather = df[['State', 'Date']].copy()\n",
    "    df_weather.drop_duplicates(inplace=True)\n",
    "    \n",
    "    State, Date = df_weather.loc[:, \"State\"], df_weather.loc[:, \"Date\"]\n",
    "    Date = [d.split('-')[2] + '-' + d.split('-')[1]  + '-' + d.split('-')[0] for d in Date]\n",
    "    Location = [a + ',' + \"USA\" for a in State]\n",
    "    \n",
    "    res = [historyWeatherAPI(l, d) for l, d in zip(Location, Date)]\n",
    "    \n",
    "    df_weather[['MaxTemp', 'Humidity', 'WindSpeed', 'Precipitation']] = res\n",
    "    df_weather[\"MaxTemp\"] = d.MaxTemp.apply(lambda x : (x-32) * (5.0/9.0)).round(1)    # farenheit to celcius\n",
    "    \n",
    "    return df_weather.copy()"
   ]
  },
  {
   "cell_type": "code",
   "execution_count": null,
   "id": "c49d8807",
   "metadata": {},
   "outputs": [],
   "source": [
    "def insertWeatherInfo(df, df_weather):\n",
    "    df[[\"MaxTemp\", \"Humidity\", \"WindSpeed\", \"Precipitation\"]] = weather[[\"MaxTemp\", \"Humidity\", \"WindSpeed\", \"Precipitation\"]].copy()\n",
    "    df[\"ID\"] = [a+','+b for a, b in zip(df.State, df.Date)]\n",
    "    \n",
    "    for col in [\"MaxTemp\", \"Humidity\", \"WindSpeed\", \"Precipitation\"]:\n",
    "        dic = {a+','+b : c for a, b, c in zip(df_weather.State, df_weather.Date, df_weather[col])}\n",
    "        df[col] = df[col].fillna(df.ID.map(dic))\n",
    "    \n",
    "    df.drop(\"ID\", axis=1, inplace=True)\n",
    "    return df"
   ]
  },
  {
   "cell_type": "markdown",
   "id": "7660edad",
   "metadata": {},
   "source": [
    "## Row Cleaning"
   ]
  },
  {
   "cell_type": "code",
   "execution_count": null,
   "id": "f1bdbf8c",
   "metadata": {},
   "outputs": [],
   "source": [
    "def removeCoordinatesOutOfBounds(df, location): \n",
    "    falsePositives = {(42.86744, -86.81662), (41.275833, -70.055833), (35.71333, -75.4865), (35.85408, -75.57812), \n",
    "                      (28.59278, -80.40258), (25.31667, -82.53156), (29.07127, -83.39877), (30, -88.97737), \n",
    "                      (32.4944, -121.4582), (53, -148), (33.9897, -119.7199), (40.00139, -124.6116),\n",
    "                      (41.703833, -124.711667), (41.99665, -124.661)}\n",
    "    for a, b in falsePositives:\n",
    "        df = df[np.logical_and(df['Lat'] != a, df['Long'] != b)]\n",
    "    df = df[np.logical_and(df.Lat <= 90, df.Lat >= -90)]\n",
    "    df = df[np.logical_and(df.Long <= 180, df.Long >= -180)]\n",
    "    \n",
    "    df.reset_index(inplace=True, drop=True)\n",
    "    coordinates = ()\n",
    "    \n",
    "    for (a, b) in zip(df.Lat, df.Long):\n",
    "        coordinates += ((a, b),)\n",
    "\n",
    "    results = rg.search(coordinates)\n",
    "    indexes = [idx for idx, result in enumerate(results) if result['cc'] != location]\n",
    "    df.drop(indexes, axis=0, inplace=True)\n",
    "    \n",
    "    return df"
   ]
  },
  {
   "cell_type": "code",
   "execution_count": null,
   "id": "2f0a1d39",
   "metadata": {},
   "outputs": [],
   "source": [
    "def dropRows(df):\n",
    "    df.dropna(how=\"any\", inplace=True)\n",
    "    df = df[df.Acres >= 0.1]\n",
    "    df = removeCoordinatesOutOfBounds(df, \"US\")\n",
    "    return df"
   ]
  },
  {
   "cell_type": "markdown",
   "id": "e5fd20b7",
   "metadata": {},
   "source": [
    "## Column Cleaning"
   ]
  },
  {
   "cell_type": "code",
   "execution_count": null,
   "id": "b27b9761",
   "metadata": {},
   "outputs": [],
   "source": [
    "def dropNoLongerRelevantColumns(df):\n",
    "    df.drop(columns = ['Date', 'FireOutDateTime', 'ID'], axis=1, inplace=True)\n",
    "    return df"
   ]
  },
  {
   "cell_type": "code",
   "execution_count": null,
   "id": "08e20f57",
   "metadata": {},
   "outputs": [],
   "source": [
    "def combineFullAndRecent(df_full, df_recent):\n",
    "    df_recent = convertDateTime(df_recent)\n",
    "    df = df_recent.append(df_full)\n",
    "    df = df.reset_index(drop=True)\n",
    "    return df"
   ]
  },
  {
   "cell_type": "code",
   "execution_count": null,
   "id": "c09264df",
   "metadata": {},
   "outputs": [],
   "source": [
    "def durationDays(start, end):\n",
    "    if isinstance(start, str) and isinstance(end, str):\n",
    "        start = datetime.fromisoformat(start)\n",
    "        end = datetime.fromisoformat(end)\n",
    "        duration = end - start\n",
    "        return duration.days + (duration.seconds/60/60/24)\n",
    "    else:\n",
    "        return np.nan"
   ]
  },
  {
   "cell_type": "code",
   "execution_count": null,
   "id": "cdc65929",
   "metadata": {},
   "outputs": [],
   "source": [
    "def changeAbbreviations(df):\n",
    "    abbreviations = {\"AL\":\"Alabama\",\"AK\":\"Alaska\",\"AZ\":\"Arizona\",\"AR\":\"Arkansas\",\"CA\":\"California\",\"CO\":\"Colorado\",\n",
    "          \"CT\":\"Connecticut\",\"DE\":\"Delaware\",\"FL\":\"Florida\",\"GA\":\"Georgia\",\"HI\":\"Hawaii\",\"ID\":\"Idaho\",\n",
    "          \"IL\":\"Illinois\",\"IN\":\"Indiana\",\"IA\":\"Iowa\",\"KS\":\"Kansas\",\"KY\":\"Kentucky\",\"LA\":\"Louisiana\",\"ME\":\"Maine\",\n",
    "          \"MD\":\"Maryland\",\"MA\":\"Massachusetts\",\"MI\":\"Michigan\",\"MN\":\"Minnesota\",\"MS\":\"Mississippi\",\"MO\":\"Missouri\",\n",
    "          \"MT\":\"Montana\",\"NE\":\"Nebraska\",\"NV\":\"Nevada\",\"NH\":\"New Hampshire\",\"NJ\":\"New Jersey\",\"NM\":\"New Mexico\",\n",
    "          \"NY\":\"New York\",\"NC\":\"North Carolina\",\"ND\":\"North Dakota\",\"OH\":\"Ohio\",\"OK\":\"Oklahoma\",\"OR\":\"Oregon\",\n",
    "          \"PA\":\"Pennsylvania\",\"RI\":\"Rhode Island\",\"SC\":\"South Carolina\",\"SD\":\"South Dakota\",\"TN\":\"Tennessee\",\n",
    "          \"TX\":\"Texas\",\"UT\":\"Utah\",\"VT\":\"Vermont\",\"VA\":\"Virginia\",\"WA\":\"Washington\",\"WV\":\"West Virginia\",\n",
    "          \"WI\":\"Wisconsin\",\"WY\":\"Wyoming\"}\n",
    "    df.replace({\"State\": abbreviations}, inplace=True)\n",
    "    \n",
    "    return df"
   ]
  },
  {
   "cell_type": "code",
   "execution_count": null,
   "id": "7a6685dc",
   "metadata": {},
   "outputs": [],
   "source": [
    "def fixColumns(df):\n",
    "    # Columns\n",
    "    renameDict = {'InitialLatitude': 'Lat', 'InitialLongitude': 'Long', 'POOState': 'State', 'DailyAcres' : 'Acres'}\n",
    "    df.rename(columns=renameDict, inplace=True)\n",
    "    \n",
    "    # State\n",
    "    df[\"State\"] = df[\"State\"].str.replace(\"US-\", \"\")\n",
    "    df = df[np.logical_and(df.State != \"PR\", df.State != \"GU\")]\n",
    "    for noNeed in ['MX-CA', 'MX-SO', 'MX-BN', 'CA-BC', 'MX-SON', 'MX-BCN']:\n",
    "        df = df[df.State != noNeed]\n",
    "    df = changeAbbreviations(df)\n",
    "    \n",
    "    # Date\n",
    "    df[\"Date\"] = df.FireDiscoveryDateTime.str.split(\" \", expand=True)[0]\n",
    "    df = df[df.Date >= \"2014-01-01\"]\n",
    "    \n",
    "    # Duration\n",
    "    df[\"Duration\"] = [durationDays(s, e) for (s, e) in zip(df['FireDiscoveryDateTime'], df['FireOutDateTime'])]\n",
    "    df = df[df.Duration >= 0.01] # 15 minutes\n",
    "    \n",
    "    # FireCause\n",
    "    df.loc[df.FireCause == \"Undetermined\", \"FireCause\"] = \"Unknown\"\n",
    "    \n",
    "    return df"
   ]
  },
  {
   "cell_type": "code",
   "execution_count": null,
   "id": "6b3b1871",
   "metadata": {},
   "outputs": [],
   "source": [
    "def getRelevantColumns(df_original):\n",
    "    df = df_original.drop_duplicates(subset='UniqueFireIdentifier').copy()\n",
    "    df = df[['InitialLatitude', 'InitialLongitude', 'POOState', 'FireDiscoveryDateTime', 'FireCause',\n",
    "             'FireOutDateTime', 'DailyAcres']]\n",
    "    return df"
   ]
  },
  {
   "cell_type": "markdown",
   "id": "f2b61e19",
   "metadata": {},
   "source": [
    "## Program"
   ]
  },
  {
   "cell_type": "code",
   "execution_count": null,
   "id": "9cba1da1",
   "metadata": {},
   "outputs": [],
   "source": [
    "def runProgram(recent=False, weatherAPI=False):\n",
    "    df = pd.read_csv(\"Full_Wildland_Fires.csv\")\n",
    "    \n",
    "    # Connect recent data gathered from crawling to current df\n",
    "    if recent:\n",
    "        df_recent = pd.read_csv(\"Recent_Wildland_Fires.csv\")\n",
    "        df = combineFullAndRecent(df_full, df_recent)\n",
    "        \n",
    "    df = getRelevantColumns(df)\n",
    "    df = fixColumns(df)\n",
    "    df = dropRows(df)\n",
    "    \n",
    "    # Run the weather API to gather historic weather info\n",
    "    if weatherAPI:\n",
    "        df_weather = runWeather(df)\n",
    "        df = insertWeatherInfo(df, df_weather)\n",
    "    \n",
    "    df = dropNoLongerRelevantColumns(df)\n",
    "    \n",
    "    return df"
   ]
  },
  {
   "cell_type": "code",
   "execution_count": 4,
   "id": "f8233fd8",
   "metadata": {},
   "outputs": [
    {
     "data": {
      "text/html": [
       "<div>\n",
       "<style scoped>\n",
       "    .dataframe tbody tr th:only-of-type {\n",
       "        vertical-align: middle;\n",
       "    }\n",
       "\n",
       "    .dataframe tbody tr th {\n",
       "        vertical-align: top;\n",
       "    }\n",
       "\n",
       "    .dataframe thead th {\n",
       "        text-align: right;\n",
       "    }\n",
       "</style>\n",
       "<table border=\"1\" class=\"dataframe\">\n",
       "  <thead>\n",
       "    <tr style=\"text-align: right;\">\n",
       "      <th></th>\n",
       "      <th>Lat</th>\n",
       "      <th>Long</th>\n",
       "      <th>State</th>\n",
       "      <th>FireDiscoveryDateTime</th>\n",
       "      <th>FireCause</th>\n",
       "      <th>Acres</th>\n",
       "      <th>Duration</th>\n",
       "      <th>MaxTemp</th>\n",
       "      <th>Humidity</th>\n",
       "      <th>WindSpeed</th>\n",
       "      <th>Precipitation</th>\n",
       "    </tr>\n",
       "  </thead>\n",
       "  <tbody>\n",
       "    <tr>\n",
       "      <th>0</th>\n",
       "      <td>33.190383</td>\n",
       "      <td>-94.345217</td>\n",
       "      <td>Texas</td>\n",
       "      <td>2021-12-13 03:49:59</td>\n",
       "      <td>Human</td>\n",
       "      <td>2.0</td>\n",
       "      <td>0.723345</td>\n",
       "      <td>17.7</td>\n",
       "      <td>67.58</td>\n",
       "      <td>6.2</td>\n",
       "      <td>0.00</td>\n",
       "    </tr>\n",
       "    <tr>\n",
       "      <th>1</th>\n",
       "      <td>34.138810</td>\n",
       "      <td>-108.494100</td>\n",
       "      <td>New Mexico</td>\n",
       "      <td>2021-12-13 00:20:59</td>\n",
       "      <td>Human</td>\n",
       "      <td>0.1</td>\n",
       "      <td>0.742373</td>\n",
       "      <td>12.2</td>\n",
       "      <td>63.00</td>\n",
       "      <td>12.0</td>\n",
       "      <td>0.00</td>\n",
       "    </tr>\n",
       "    <tr>\n",
       "      <th>2</th>\n",
       "      <td>36.761400</td>\n",
       "      <td>-94.715450</td>\n",
       "      <td>Oklahoma</td>\n",
       "      <td>2021-12-12 18:00:00</td>\n",
       "      <td>Human</td>\n",
       "      <td>0.1</td>\n",
       "      <td>0.166655</td>\n",
       "      <td>14.2</td>\n",
       "      <td>52.02</td>\n",
       "      <td>10.7</td>\n",
       "      <td>0.00</td>\n",
       "    </tr>\n",
       "    <tr>\n",
       "      <th>3</th>\n",
       "      <td>33.473097</td>\n",
       "      <td>-117.162864</td>\n",
       "      <td>California</td>\n",
       "      <td>2021-12-12 01:19:01</td>\n",
       "      <td>Human</td>\n",
       "      <td>2.0</td>\n",
       "      <td>0.608669</td>\n",
       "      <td>12.6</td>\n",
       "      <td>80.72</td>\n",
       "      <td>22.0</td>\n",
       "      <td>0.42</td>\n",
       "    </tr>\n",
       "    <tr>\n",
       "      <th>4</th>\n",
       "      <td>34.227280</td>\n",
       "      <td>-117.305200</td>\n",
       "      <td>California</td>\n",
       "      <td>2021-12-11 22:16:11</td>\n",
       "      <td>Undetermined</td>\n",
       "      <td>0.1</td>\n",
       "      <td>0.961667</td>\n",
       "      <td>12.9</td>\n",
       "      <td>68.72</td>\n",
       "      <td>9.6</td>\n",
       "      <td>0.00</td>\n",
       "    </tr>\n",
       "  </tbody>\n",
       "</table>\n",
       "</div>"
      ],
      "text/plain": [
       "         Lat        Long       State FireDiscoveryDateTime     FireCause  \\\n",
       "0  33.190383  -94.345217       Texas   2021-12-13 03:49:59         Human   \n",
       "1  34.138810 -108.494100  New Mexico   2021-12-13 00:20:59         Human   \n",
       "2  36.761400  -94.715450    Oklahoma   2021-12-12 18:00:00         Human   \n",
       "3  33.473097 -117.162864  California   2021-12-12 01:19:01         Human   \n",
       "4  34.227280 -117.305200  California   2021-12-11 22:16:11  Undetermined   \n",
       "\n",
       "   Acres  Duration  MaxTemp  Humidity  WindSpeed  Precipitation  \n",
       "0    2.0  0.723345     17.7     67.58        6.2           0.00  \n",
       "1    0.1  0.742373     12.2     63.00       12.0           0.00  \n",
       "2    0.1  0.166655     14.2     52.02       10.7           0.00  \n",
       "3    2.0  0.608669     12.6     80.72       22.0           0.42  \n",
       "4    0.1  0.961667     12.9     68.72        9.6           0.00  "
      ]
     },
     "execution_count": 4,
     "metadata": {},
     "output_type": "execute_result"
    }
   ],
   "source": [
    "df = runProgram()\n",
    "df.to_csv(\"Cleaned_Wildland_Fires.csv\", index=False)\n",
    "df.head()"
   ]
  }
 ],
 "metadata": {
  "kernelspec": {
   "display_name": "Python 3",
   "language": "python",
   "name": "python3"
  },
  "language_info": {
   "codemirror_mode": {
    "name": "ipython",
    "version": 3
   },
   "file_extension": ".py",
   "mimetype": "text/x-python",
   "name": "python",
   "nbconvert_exporter": "python",
   "pygments_lexer": "ipython3",
   "version": "3.8.8"
  }
 },
 "nbformat": 4,
 "nbformat_minor": 5
}
